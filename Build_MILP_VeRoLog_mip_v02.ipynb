{
 "cells": [
  {
   "cell_type": "markdown",
   "id": "generous-weather",
   "metadata": {},
   "source": [
    "# In this notebook the code is developed to solve the VeRoLog solver challenge to optimality. mip is used to create and execute the created MILP. We use the example instance of the VeRoLog challegence since it is rather small. The index of some variables have been moved by 1 since python starts indexing at 0. The formulas in this notebook are written with LaTeX. In mip strict inequalities are not supported"
   ]
  },
  {
   "cell_type": "markdown",
   "id": "entire-thinking",
   "metadata": {},
   "source": [
    "## Imports"
   ]
  },
  {
   "cell_type": "code",
   "execution_count": 1,
   "id": "material-track",
   "metadata": {},
   "outputs": [],
   "source": [
    "import logging\n",
    "import math as math\n",
    "import matplotlib.pyplot as plt\n",
    "import networkx as nx\n",
    "import numpy as np\n",
    "import pandas as pd\n",
    "import time\n",
    "import mip as mip\n",
    "\n",
    "from itertools import product\n",
    "from sys import stdout as out"
   ]
  },
  {
   "cell_type": "code",
   "execution_count": 2,
   "id": "quality-consumption",
   "metadata": {},
   "outputs": [],
   "source": [
    "logging.basicConfig(filename='VeRoLog MILP', level=logging.INFO,format='%(asctime)s:%(levelname)s:%(message)s')\n",
    "opt_model = mip.Model(name='VeRoLog',solver_name=mip.CBC)"
   ]
  },
  {
   "cell_type": "markdown",
   "id": "timely-guinea",
   "metadata": {},
   "source": [
    "## Input parameters (the variable used in the formulas are commented next to the variable)"
   ]
  },
  {
   "cell_type": "code",
   "execution_count": 3,
   "id": "welcome-shoot",
   "metadata": {},
   "outputs": [],
   "source": [
    "DAYS = 7                                                #T\n",
    "technicians = [0,1,2,3,4]                                #H\n",
    "trucks = [i for i in range(3)]                        #K (arbitrarily chosen)\n",
    "machines = [0,1,2,3]                                         #M\n",
    "customers = [i for i in range(7)]                    #C\n",
    "\n",
    "customer_machine_types = [0,2,3,0,1,3,1]           #m_j\n",
    "machine_size = [2,1,3,2]                                     #s_{m_j}\n",
    "machine_penalty = [200,200,500,100]                              #pi_j\n",
    "customer_order_size = [1,1,2,3,1,1,4]              #d_j\n",
    "start_delivery_window = [0,2,1,4,0,0,2]              #a_j\n",
    "end_delivery_window =  [6,5,2,6,3,5,4]              #b_j\n",
    "technician_max_visits = [2,1,5,2,1]                      #r_h\n",
    "technician_max_distance = [100,100,100,100,50]     #omega_h\n",
    "technician_skill_set = [[0,1,1,1],[1,1,0,0],[0,0,1,0],[1,1,0,1],[1,1,1,1]]   #g_{h_m}\n",
    "TRUCK_MAX_DISTANCE = 250                                #delta\n",
    "TRUCK_CAPACITY = 6                                      #Q\n",
    "LARGE_NUMBER = 1000                                      #L\n",
    "\n",
    "TRUCK_DISTANCE_COST = 1                               #beta\n",
    "TRUCK_DAY_COST = 100                                  #alpha\n",
    "TRUCK_COST = 100000                                       #gamma\n",
    "TECHNICIAN_DISTANCE_COST = 1                           #phi\n",
    "TECHNICIAN_DAY_COST = 100000                              #lambda\n",
    "TECHNICIAN_COST = 100   "
   ]
  },
  {
   "cell_type": "code",
   "execution_count": 4,
   "id": "ceramic-result",
   "metadata": {},
   "outputs": [],
   "source": [
    "## Alternative to test the consecutive working days constraint\n",
    "# DAYS = 12                                                #T\n",
    "# technicians = [0,1]                                #H\n",
    "# trucks = [i for i in range(3)]                        #K (arbitrarily chosen)\n",
    "# machines = [0,1,2,3]                                         #M\n",
    "# customers = [i for i in range(15)]                    #C\n",
    "\n",
    "# customer_machine_types = [0,2,3,0,1,3,1,3,1,2,0,0,3,2,0]           #m_j\n",
    "# machine_size = [2,1,3,2]                                     #s_{m_j}\n",
    "# machine_penalty = [200,200,500,100]                              #pi_j\n",
    "# customer_order_size = [1,1,2,3,1,1,4,1,1,1,1,1,1,1,1]              #d_j\n",
    "# start_delivery_window = [0,2,1,4,0,0,2,0,2,1,4,0,0,2,0]              #a_j\n",
    "# end_delivery_window =  [6,5,2,6,3,5,4,6,5,2,6,3,5,4,5]              #b_j\n",
    "# technician_max_visits = [2,1]                      #r_h\n",
    "# technician_max_distance = [100,150]     #omega_h\n",
    "# technician_skill_set = [[0,1,1,1],[1,1,0,0],[0,0,1,0],[1,1,0,1],[1,1,1,1]]   #g_{h_m}\n",
    "# TRUCK_MAX_DISTANCE = 250                                #delta\n",
    "# TRUCK_CAPACITY = 6                                      #Q\n",
    "# LARGE_NUMBER = 1000                                      #L\n",
    "\n",
    "# TRUCK_DISTANCE_COST = 1                               #beta\n",
    "# TRUCK_DAY_COST = 100                                  #alpha\n",
    "# TRUCK_COST = 100000                                       #gamma\n",
    "# TECHNICIAN_DISTANCE_COST = 1                           #phi\n",
    "# TECHNICIAN_DAY_COST = 100000                              #lambda\n",
    "# TECHNICIAN_COST = 100                                     #mu"
   ]
  },
  {
   "cell_type": "markdown",
   "id": "separated-combining",
   "metadata": {},
   "source": [
    "### Graph $G=(N,E)$"
   ]
  },
  {
   "cell_type": "code",
   "execution_count": 5,
   "id": "revolutionary-petersburg",
   "metadata": {},
   "outputs": [],
   "source": [
    "#nodes: dictionary of x and y coordinates\n",
    "depot_node = {0:(10,50)}\n",
    "customer_nodes = {1:(20, 10),2:(50, 5),3:(33, 7),4:(40, 40),5:(70,40),6:(1, 35),7:(1, 35)}   #\\mathcal{C}\n",
    "technician_nodes = {8:(50,5),9:(10,5),10:(25,5),11:(25,60),12:(10,25)}                       #\\mathcal{H}\n",
    "nodes = {**depot_node,**customer_nodes,**technician_nodes}                                   #N\n",
    "x_nodes = {**depot_node,**customer_nodes}                                                    #N_x\n",
    "y_nodes = {**customer_nodes,**technician_nodes}                                              #N_y\n",
    "number_of_nodes = len(nodes)\n",
    "#edges and cost: every node is connected and the graph is directed\n",
    "count_0 = 0\n",
    "count_1 = 0\n",
    "# we first want the edges that connect the depot to each customer and each customer to each customer, the graph is directed\n",
    "edges_index = {}                                                                            #E\n",
    "cost_edges = [[] for i in nodes]\n",
    "for i in x_nodes:\n",
    "    count_1 = 0\n",
    "    for j in x_nodes:\n",
    "        if i!=j:\n",
    "            edges_index[(i,j)] = (count_0,count_1)\n",
    "            cost_edges[i].append(math.ceil(math.sqrt((x_nodes[i][0] - x_nodes[j][0])**2+(x_nodes[i][1]-x_nodes[j][1])**2)))\n",
    "            count_1 +=1\n",
    "    count_0 +=1\n",
    "# # we now want to connect the technician home locations to each node\n",
    "for tech_node in technician_nodes:\n",
    "    count_1 = 0\n",
    "    for cust_node in customer_nodes:\n",
    "        edges_index[(tech_node,cust_node)] = (count_0,count_1)\n",
    "        edges_index[(cust_node,tech_node)] = (count_0,count_1+1)\n",
    "        cost_edges[tech_node].append(math.ceil(math.sqrt((technician_nodes[tech_node][0]-customer_nodes[cust_node][0])**2+(technician_nodes[tech_node][1]-customer_nodes[cust_node][1])**2)))\n",
    "        cost_edges[tech_node].append(math.ceil(math.sqrt((customer_nodes[cust_node][0]-technician_nodes[tech_node][0])**2+(customer_nodes[cust_node][1]-technician_nodes[tech_node][1])**2)))\n",
    "        count_1 += 2\n",
    "    count_0 +=1"
   ]
  },
  {
   "cell_type": "code",
   "execution_count": 6,
   "id": "curious-sapphire",
   "metadata": {},
   "outputs": [],
   "source": [
    "# # Alternative to test the consecutive working days constraint\n",
    "# #nodes: dictionary of x and y coordinates\n",
    "# depot_node = {0:(10,50)}\n",
    "# customer_nodes = {1:(20, 10),2:(50, 5),3:(33, 7),4:(40, 40),5:(70,40),6:(1, 35),7:(1, 35),\n",
    "#                   8:(20, 10),9:(50, 5),10:(33, 7),11:(40, 40),12:(70,40),13:(1, 35),14:(1, 35),15:(50,60)}   #\\mathcal{C}\n",
    "# technician_nodes = {16:(50,5),17:(10,5)}                       #\\mathcal{H}\n",
    "# nodes = {**depot_node,**customer_nodes,**technician_nodes}                                   #N\n",
    "# x_nodes = {**depot_node,**customer_nodes}                                                    #N_x\n",
    "# y_nodes = {**customer_nodes,**technician_nodes}                                              #N_y\n",
    "# number_of_nodes = len(nodes)\n",
    "# #edges and cost: every node is connected and the graph is directed\n",
    "# count_0 = 0\n",
    "# count_1 = 0\n",
    "# # we first want the edges that connect the depot to each customer and each customer to each customer, the graph is directed\n",
    "# edges_index = {}                                                                            #E\n",
    "# cost_edges = [[] for i in nodes]\n",
    "# for i in x_nodes:\n",
    "#     count_1 = 0\n",
    "#     for j in x_nodes:\n",
    "#         if i!=j:\n",
    "#             edges_index[(i,j)] = (count_0,count_1)\n",
    "#             cost_edges[i].append(math.ceil(math.sqrt((x_nodes[i][0] - x_nodes[j][0])**2+(x_nodes[i][1]-x_nodes[j][1])**2)))\n",
    "#             count_1 +=1\n",
    "#     count_0 +=1\n",
    "# # # we now want to connect the technician home locations to each node\n",
    "# for tech_node in technician_nodes:\n",
    "#     count_1 = 0\n",
    "#     for cust_node in customer_nodes:\n",
    "#         edges_index[(tech_node,cust_node)] = (count_0,count_1)\n",
    "#         edges_index[(cust_node,tech_node)] = (count_0,count_1+1)\n",
    "#         cost_edges[tech_node].append(math.ceil(math.sqrt((technician_nodes[tech_node][0]-customer_nodes[cust_node][0])**2+(technician_nodes[tech_node][1]-customer_nodes[cust_node][1])**2)))\n",
    "#         cost_edges[tech_node].append(math.ceil(math.sqrt((customer_nodes[cust_node][0]-technician_nodes[tech_node][0])**2+(customer_nodes[cust_node][1]-technician_nodes[tech_node][1])**2)))\n",
    "#         count_1 += 2\n",
    "#     count_0 +=1"
   ]
  },
  {
   "cell_type": "code",
   "execution_count": 7,
   "id": "veterinary-timer",
   "metadata": {},
   "outputs": [
    {
     "data": {
      "image/png": "[encoded data removed]",
      "text/plain": [
       "<Figure size 432x288 with 1 Axes>"
      ]
     },
     "metadata": {},
     "output_type": "display_data"
    }
   ],
   "source": [
    "#create and plot the graph with networkx\n",
    "G_cust = nx.DiGraph()\n",
    "G_tech = nx.DiGraph()\n",
    "G_depot = nx.DiGraph()\n",
    "\n",
    "G_cust.add_nodes_from(customer_nodes)\n",
    "G_tech.add_nodes_from(technician_nodes)\n",
    "G_depot.add_nodes_from(depot_node)\n",
    "\n",
    "pos = {}\n",
    "for node in G_cust.nodes:\n",
    "    pos[node] = nodes[node]\n",
    "for node in G_tech.nodes:\n",
    "    pos[node] = nodes[node]\n",
    "for node in G_depot.nodes:\n",
    "    pos[node] = nodes[node]\n",
    "    \n",
    "plt.figure(figsize=[6,4])\n",
    "nx.draw(G_cust,pos=pos, node_size=50, with_labels=True, font_weight='bold',node_color=[\"blue\" for c in customers])\n",
    "nx.draw(G_tech,pos=pos, node_size=50, with_labels=True, font_weight='bold',node_color=[\"lightgreen\" for tech in technicians])\n",
    "nx.draw(G_depot,pos=pos,node_size=50, with_labels=True, font_weight='bold',node_color=['red'])\n",
    "plt.show()"
   ]
  },
  {
   "cell_type": "code",
   "execution_count": 8,
   "id": "center-doctor",
   "metadata": {},
   "outputs": [
    {
     "data": {
      "image/png": "[encoded data removed]",
      "text/plain": [
       "<Figure size 432x288 with 1 Axes>"
      ]
     },
     "metadata": {},
     "output_type": "display_data"
    }
   ],
   "source": [
    "#with edges\n",
    "G = nx.DiGraph()\n",
    "for k,v in edges_index.items():\n",
    "    G.add_edge(*k)\n",
    "    \n",
    "plt.figure(figsize=[6,4])\n",
    "nx.draw(G,pos=pos, node_size=10)\n",
    "plt.show()"
   ]
  },
  {
   "cell_type": "markdown",
   "id": "cutting-armstrong",
   "metadata": {},
   "source": [
    "## Data checks"
   ]
  },
  {
   "cell_type": "code",
   "execution_count": 9,
   "id": "british-dimension",
   "metadata": {},
   "outputs": [],
   "source": [
    "# cost_edges"
   ]
  },
  {
   "cell_type": "code",
   "execution_count": 10,
   "id": "based-simulation",
   "metadata": {},
   "outputs": [],
   "source": [
    "if not len(technicians) == len(technician_nodes) == len(technician_max_visits) == len(technician_max_distance) == len(technician_skill_set):\n",
    "    logging.error(\"ERROR: the technician data is not consistent\")\n",
    "\n",
    "if not len(customer_machine_types) == len(customer_order_size) == len(start_delivery_window) == len(end_delivery_window) ==len(customer_nodes) == len(customers):\n",
    "    logging.error(\"ERROR: the customer data is not consistent\")\n",
    "\n",
    "if not len(machines) == len(machine_size) == len(machine_penalty):\n",
    "    logging.error(\"ERROR: the machine data is not consistent\")\n",
    "\n",
    "for i in range(len(customer_nodes)):\n",
    "    if start_delivery_window[i] < 0:\n",
    "        logging.error(\"ERROR: the start of delivery window is smaller than 0\")\n",
    "    if start_delivery_window[i] >= end_delivery_window[i]:\n",
    "        logging.error(\"ERROR: the start of delivery window is larger or equal than the end\")\n",
    "    if end_delivery_window[i] == DAYS-1:\n",
    "        end_delivery_window[i] = end_delivery_window[i]-1 #one day is needed to install within horizon so might as well shift it\n",
    "    if end_delivery_window[i] > DAYS-1:\n",
    "        logging.error(\"ERROR: the end of delivery window is outside horizon\")\n",
    "\n",
    "for i in range(len(customer_nodes)):\n",
    "    if 2*cost_edges[0][i]> TRUCK_MAX_DISTANCE:\n",
    "        logging.error(\"ERROR: trucks can't reach customer {0}\".format(i))\n",
    "\n",
    "for i, machine_type in enumerate(customer_machine_types):\n",
    "    if machine_size[machine_type] * customer_order_size[i] > TRUCK_CAPACITY:\n",
    "        logging.error(\"ERROR: customer order is to large for truck capacity\")         \n",
    "\n",
    "tech_dist_check = [0 for i in customers]\n",
    "for i in customers:\n",
    "    MachineType = customer_machine_types[i]\n",
    "    for tech in technicians:\n",
    "        if technician_skill_set[tech][MachineType] == 1:\n",
    "            edge_index = edges_index[(tech+len(customers)+1,i+1)]\n",
    "            if 2*cost_edges[edge_index[0]][edge_index[1]] < technician_max_distance[tech]:\n",
    "                tech_dist_check[i] = 1\n",
    "if min(tech_dist_check) == 0:\n",
    "    logging.error(\"ERROR: customer location is located too far from technicians\")  "
   ]
  },
  {
   "cell_type": "markdown",
   "id": "adverse-judges",
   "metadata": {},
   "source": [
    "## Decision variables"
   ]
  },
  {
   "cell_type": "markdown",
   "id": "beautiful-burke",
   "metadata": {},
   "source": [
    "### We have the following decision variables:\n",
    "### $x_{tkij} \\in \\{0,1\\} \\text{: indicates if on day $t$, truck $k$, drives from node $i$ to $j$}$\n",
    "### $y_{thij} \\in \\{0,1\\} \\text{: indicates if on day $t$, technician $h$, drives from node $i$ to $j$}$\n",
    "### $u_k \\in {\\rm I\\!R} \\text{: indicates if truck $k$ is used in the problem}$\n",
    "### $v_{tk} \\in {\\rm I\\!R} \\text{: indicates if on day $t$ truck $k$ is used}$\n",
    "### $p_h \\in {\\rm I\\!R} \\text{: indicates if technician $h$ is used in the problem}$\n",
    "### $q_{th} \\in {\\rm I\\!R} \\text{:  indicates if on day $t$ technician $h$ is used}$\n",
    "### $z_{tkj} \\in {\\rm I\\!R} \\text{: cumulative load on day $t$, in truck $k$, when delivering to $j \\in \\mathcal{C}$}$\n",
    "### $w_{th} \\in \\{0,1\\} \\text{: indicates if on day $t$ technician $h$ has worked for 5 days in a row}$\n",
    "### where\n",
    "### $ u_k \\geq 0 \\hspace{0.3cm} \\forall \\hspace{0.1cm} k \\in K,                                                 $\n",
    "### $ v_{tk} \\geq 0 \\hspace{0.3cm} \\forall \\hspace{0.1cm} t \\in \\{1,\\ldots,T\\}, k \\in K,                        $\n",
    "### $ p_h \\geq 0 \\hspace{0.3cm} \\forall \\hspace{0.1cm} h \\in H,                                                $\n",
    "### $ q_{th} \\geq 0 \\hspace{0.3cm} \\forall \\hspace{0.1cm} t \\in \\{1,\\ldots,T\\}, h \\in H, $\n",
    "### $ z_{tkj} \\geq 0 \\hspace{0.3cm} \\forall \\hspace{0.1cm} t \\in \\{1,\\ldots,T\\}, k \\in K, j \\in \\mathcal{C} $"
   ]
  },
  {
   "cell_type": "code",
   "execution_count": null,
   "id": "private-heritage",
   "metadata": {},
   "outputs": [],
   "source": [
    "def tech_graph(technician_skill_set):\n",
    "    \"\"\"\n",
    "    Purpose,\n",
    "        Create a graph that includes the technician node and all the customer location where the technician can install\n",
    "    Input,\n",
    "        h, int: technician under consideration\n",
    "        technician_skill_set, list: the skillset of each technician\n",
    "        customer_nodes, dict: nodes of customers\n",
    "    Output,\n",
    "        G_tech_h, networkx DiGraph for technician h\n",
    "\n",
    "    \"\"\"\n",
    "    for i in customer_nodes:\n",
    "        if technician_skill_set[h][customer_machine_types[i-1]]:\n",
    "            print(h,i)\n",
    "        \n",
    "    return G_tech_h"
   ]
  },
  {
   "cell_type": "code",
   "execution_count": 25,
   "id": "lonely-blame",
   "metadata": {},
   "outputs": [],
   "source": [
    "if 3 in technician_nodes.keys():\n",
    "    print('yo')"
   ]
  },
  {
   "cell_type": "code",
   "execution_count": 26,
   "id": "mexican-strength",
   "metadata": {},
   "outputs": [
    {
     "data": {
      "text/plain": [
       "{9, 10, 11, 12}"
      ]
     },
     "execution_count": 26,
     "metadata": {},
     "output_type": "execute_result"
    }
   ],
   "source": [
    "technician_nodes.keys() - {8}"
   ]
  },
  {
   "cell_type": "code",
   "execution_count": 27,
   "id": "aquatic-eagle",
   "metadata": {},
   "outputs": [
    {
     "data": {
      "text/plain": [
       "8"
      ]
     },
     "execution_count": 27,
     "metadata": {},
     "output_type": "execute_result"
    }
   ],
   "source": [
    "len(x_nodes)"
   ]
  },
  {
   "cell_type": "code",
   "execution_count": null,
   "id": "rapid-polyester",
   "metadata": {},
   "outputs": [],
   "source": [
    "#installation can only start one day later than delivery, also no connection between technician homes and depot\n",
    "# the technicians are disconnected from the customer nodes if their skillset does not allow them to install there\n",
    "y = [[[]for h in technicians] for t in range(1,DAYS)]\n",
    "for t in range(DAYS-1):\n",
    "    for h in technicians:\n",
    "        for i in customer_nodes:\n",
    "            y[t][h].append([])\n",
    "            if technician_skill_set[h][customer_machine_types[i-1]]:\n",
    "                #if the technician can install on this customer location \n",
    "                y[t][h][i-1].append([opt_model.add_var(name=\"y_{0}_{1}_{2}_{3}\".format(t,h,i,j),var_type=mip.BINARY) \n",
    "                         for j in y_nodes if i != j and not (j in technician_nodes.keys() - {h+len(x_nodes)})])\n",
    "\n",
    "#y = [[[[opt_model.add_var(name=\"y_{0}_{1}_{2}_{3}\".format(t,h,i,j),var_type=mip.BINARY) for j in y_nodes if i != j and not (i in technician_nodes or j in technician_nodes)] for i in y_nodes] for h in technicians] for t in range(1,DAYS)]\n"
   ]
  },
  {
   "cell_type": "code",
   "execution_count": 12,
   "id": "vocal-pilot",
   "metadata": {},
   "outputs": [],
   "source": [
    "y = [[[] for h in technicians] for t in range(1,DAYS)]"
   ]
  },
  {
   "cell_type": "code",
   "execution_count": 13,
   "id": "moderate-miller",
   "metadata": {},
   "outputs": [
    {
     "data": {
      "text/plain": [
       "[[], [], [], [], []]"
      ]
     },
     "execution_count": 13,
     "metadata": {},
     "output_type": "execute_result"
    }
   ],
   "source": [
    "y[0]"
   ]
  },
  {
   "cell_type": "code",
   "execution_count": 81,
   "id": "drawn-favorite",
   "metadata": {},
   "outputs": [],
   "source": [
    "# Binary\n",
    "#no connection between technician homes\n",
    "#delivery needs to be fullfilled one day before end of the horizon\n",
    "x = [[[[opt_model.add_var(name=\"x_{0}_{1}_{2}_{3}\".format(t,k,i,j),var_type=mip.BINARY) for j in x_nodes if j != i] for i in x_nodes] for k in trucks] for t in range(DAYS-1)]\n",
    "\n",
    "#installation can only start one day later than delivery, also no connection between technician homes and depot\n",
    "#we take the technician skillset into account as well when connecting technicians to customers\n",
    "y = [[[[opt_model.add_var(name=\"y_{0}_{1}_{2}_{3}\".format(t,h,i,j),var_type=mip.BINARY) for j in y_nodes if i != j and not (i in technician_nodes and j in technician_nodes)] for i in y_nodes] for h in technicians] for t in range(1,DAYS)]\n",
    "\n",
    "#technician can only have worked for the past 5 consecutive days on the 7th day in the horizon\n",
    "if DAYS > 6:\n",
    "    w = [[opt_model.add_var(name=\"w_{0}_{1}\".format(t,h),var_type=mip.BINARY) for h in technicians] for t in range(6,DAYS)]\n",
    "\n",
    "# # Continuous\n",
    "u = [opt_model.add_var(name=\"u_{0}\".format(k),lb=0.0) for k in trucks]\n",
    "\n",
    "v = [[opt_model.add_var(name=\"v_{0}_{1}\".format(t,k),lb=0.0) for k in trucks] for t in range(DAYS-1)]\n",
    "\n",
    "p = [opt_model.add_var(name=\"p_{0}\".format(h),lb=0.0) for h in technicians]\n",
    "\n",
    "q = [[opt_model.add_var(name=\"q_{0}_{1}\".format(t,h),lb=0.0) for h in technicians] for t in range(1,DAYS)]\n",
    "\n",
    "#delivery needs to be fullfilled one day before end of the horizon\n",
    "z = [[[opt_model.add_var(name=\"z_{0}_{1}_{2}\".format(t,k,j),lb=0.0) for j in customer_nodes] for k in trucks] for t in range(DAYS-1)]"
   ]
  },
  {
   "cell_type": "markdown",
   "id": "expensive-revelation",
   "metadata": {},
   "source": [
    "## Objective function"
   ]
  },
  {
   "cell_type": "markdown",
   "id": "olive-broadcast",
   "metadata": {},
   "source": [
    "## $\\min \\beta \\sum\\limits_{t=0}^{T-1}\\sum\\limits_{k \\in K}\\sum_{(i,j) \\in E} x_{tkij}c_{ij} + \\gamma \\sum\\limits_{k \\in K} u_k + \\alpha \\sum\\limits_{t=0}^{T-1}\\sum\\limits_{k \\in K}v_{tk} + \\phi \\sum\\limits_{t=1}^{T}\\sum\\limits_{h \\in H}\\sum\\limits_{(i,j) \\in E} y_{thij}c_{ij} + \\mu \\sum\\limits_{h \\in H} p_{h} + \\lambda \\sum\\limits_{t=1}^{T}\\sum\\limits_{h \\in H} q_{th} + \\sum\\limits_{j \\in \\mathcal{C}} \\pi_{m_j} d_j \\left(\\left(\\sum\\limits_{t=0}^{T-1}\\sum\\limits_{i \\in N} \\left( \\sum\\limits_{h \\in H} (t+1) y_{t+1hij} - \\sum\\limits_{k \\in K} t x_{tkij}\\right) \\right) - 1\\right)$"
   ]
  },
  {
   "cell_type": "code",
   "execution_count": 82,
   "id": "virtual-plymouth",
   "metadata": {},
   "outputs": [],
   "source": [
    "def calc_edge_cost(var,t,k_h,i,j,edges_index,cost_edges):\n",
    "    \"\"\"\n",
    "    Purpose,\n",
    "        Calculate the cost to travel an edge given the variable (x or y) and it's index (t,k or h,i,j)\n",
    "    Input,\n",
    "        var, mip.Var: the variable we are looking at (x or y)\n",
    "        t, int: the index of the day\n",
    "        k_h, int, the index of the truck (k) or the technician (h)\n",
    "        i, int: the index of the node we are leaving\n",
    "        j, int: the index of the node we are entering\n",
    "        edges_index, dict: indicating the index in cost_edges (values) for each edge (keys)\n",
    "        cost_edges, list: indicating the cost for each edge\n",
    "    Output,\n",
    "        edge_cost, cost to travel over this edge\n",
    "    \"\"\"\n",
    "    var_name = var[t][k_h][i][j].name\n",
    "    var_name_split = var_name.split('_')\n",
    "    outgoing_node =  int(var_name_split[3])\n",
    "    incoming_node = int(var_name_split[4])\n",
    "    edge_index = edges_index[(outgoing_node,incoming_node)]\n",
    "    edge_cost = cost_edges[edge_index[0]][edge_index[1]]\n",
    "    \n",
    "    return edge_cost"
   ]
  },
  {
   "cell_type": "code",
   "execution_count": 83,
   "id": "second-meditation",
   "metadata": {},
   "outputs": [],
   "source": [
    "c_truck_distance = TRUCK_DISTANCE_COST * (mip.xsum(x[t][k][i][j] * calc_edge_cost(x,t,k,i,j,edges_index,cost_edges) for t in range(DAYS-1) \n",
    "                                for k in trucks for i in range(len(x[t][k])) for j in range(len(x[t][k][i]))))\n",
    "#print(c_truck_distance)"
   ]
  },
  {
   "cell_type": "code",
   "execution_count": 84,
   "id": "stunning-money",
   "metadata": {},
   "outputs": [],
   "source": [
    "c_truck = TRUCK_COST * mip.xsum(u[k] for k in trucks)\n",
    "# print(c_truck)"
   ]
  },
  {
   "cell_type": "code",
   "execution_count": 85,
   "id": "otherwise-union",
   "metadata": {},
   "outputs": [],
   "source": [
    "c_truck_day = TRUCK_DAY_COST * mip.xsum(v[t][k] for t in range(DAYS-1) for k in trucks) \n",
    "# print(c_truck_day)"
   ]
  },
  {
   "cell_type": "code",
   "execution_count": 86,
   "id": "resistant-anatomy",
   "metadata": {},
   "outputs": [],
   "source": [
    "c_tech_distance = TECHNICIAN_DISTANCE_COST * mip.xsum(y[t][h][i][j] * calc_edge_cost(y,t,h,i,j,edges_index,cost_edges)\n",
    "                                                      for t in range(DAYS-1) for h in technicians for i in range(len(y[t][h]))\n",
    "                                                      for j in range(len(y[t][h][i]))) \n",
    "# print(c_tech_distance)"
   ]
  },
  {
   "cell_type": "code",
   "execution_count": 87,
   "id": "hispanic-pencil",
   "metadata": {},
   "outputs": [],
   "source": [
    "c_tech = TECHNICIAN_COST * mip.xsum(p[h] for h in technicians) \n",
    "# print(c_tech)"
   ]
  },
  {
   "cell_type": "code",
   "execution_count": 88,
   "id": "scenic-phenomenon",
   "metadata": {},
   "outputs": [],
   "source": [
    "c_tech_day = TECHNICIAN_DAY_COST * mip.xsum(q[t][h] for t in range(0,DAYS-1) for h in technicians)\n",
    "# print(c_tech_day)"
   ]
  },
  {
   "cell_type": "code",
   "execution_count": 89,
   "id": "rental-elizabeth",
   "metadata": {},
   "outputs": [],
   "source": [
    "# # for the penalization we need to find all nodes that go into the customer node\n",
    "# selected_customer = 5\n",
    "# for i in x_nodes:\n",
    "#     if i > selected_customer:\n",
    "#         print(x[0][0][i][selected_customer].name)\n",
    "#     elif i < selected_customer:\n",
    "#         print(x[0][0][i][selected_customer-1].name)"
   ]
  },
  {
   "cell_type": "code",
   "execution_count": 90,
   "id": "homeless-budapest",
   "metadata": {},
   "outputs": [],
   "source": [
    "# #delivery day for a customer is t multiplied by x_{t}_{k}_{i}_{selected_customer} for all i that are not the selected_customer\n",
    "# deliv_days_sel_cust = (mip.xsum(t*x[t][k][i][selected_customer] for t in range(DAYS) for k in trucks for i in x_nodes if i > selected_customer)\n",
    "#                        + mip.xsum(t*x[t][k][i][selected_customer-1] for t in range(DAYS) for k in trucks for i in x_nodes if i < selected_customer))\n",
    "# print(deliv_days_sel_cust)"
   ]
  },
  {
   "cell_type": "code",
   "execution_count": 91,
   "id": "divided-living",
   "metadata": {},
   "outputs": [],
   "source": [
    "# for j in customer_nodes:\n",
    "#     print(j)\n",
    "#     for i in range(len(y[0][0][j-1])+1):\n",
    "#         if i > j-1:\n",
    "#             print(y[0][0][i][j-1].name)\n",
    "#         elif i < j-1:\n",
    "#             print(y[0][0][i][j-2].name)"
   ]
  },
  {
   "cell_type": "code",
   "execution_count": 92,
   "id": "computational-cyprus",
   "metadata": {},
   "outputs": [],
   "source": [
    "# #installation day for a customer is t multiplied by y_{t}_{k}_{i}_{selected_customer} for all i that are not the selected_customer\n",
    "# install_days_sel_cust = (mip.xsum((t+1)*y[t][h][i][selected_customer-1] for t in range(DAYS-1) for h in technicians for i in range(len(y[0][0][selected_customer-1])+1) if i > selected_customer-1)\n",
    "#                        + mip.xsum((t+1)*y[t][h][i][selected_customer-2] for t in range(DAYS-1) for h in technicians for i in range(len(y[0][0][selected_customer-1])+1) if i < selected_customer-1))\n",
    "# print(install_days_sel_cust)"
   ]
  },
  {
   "cell_type": "code",
   "execution_count": 93,
   "id": "educational-republican",
   "metadata": {},
   "outputs": [],
   "source": [
    "# # the difference between the installation day and delivery day for a customer -1 gives the number of penalized days\n",
    "# penalized_days_sel_cust = (install_days_sel_cust - deliv_days_sel_cust) - 1\n",
    "# print(penalized_days_sel_cust)"
   ]
  },
  {
   "cell_type": "code",
   "execution_count": 94,
   "id": "vocational-needle",
   "metadata": {},
   "outputs": [],
   "source": [
    "c_penalty = mip.xsum(machine_penalty[customer_machine_types[j-1]] * customer_order_size[j-1] * \n",
    "         ((mip.xsum((t+1)*y[t][h][i][j-1] for t in range(DAYS-1) for h in technicians for i in range(len(y[t][h][j-1])+1) if i > j-1)\n",
    "         + mip.xsum((t+1)*y[t][h][i][j-2] for t in range(DAYS-1) for h in technicians for i in range(len(y[t][h][j-1])+1) if i < j-1))\n",
    "         -(mip.xsum(t*x[t][k][i][j] for t in range(DAYS-1) for k in trucks for i in x_nodes if i > j)\n",
    "         + mip.xsum(t*x[t][k][i][j-1] for t in range(DAYS-1) for k in trucks for i in x_nodes if i < j))\n",
    "         - 1) for j in customer_nodes)\n",
    "# print(c_penalty)"
   ]
  },
  {
   "cell_type": "code",
   "execution_count": 95,
   "id": "differential-curve",
   "metadata": {},
   "outputs": [],
   "source": [
    "objective_func = c_truck_distance + c_truck + c_truck_day + c_tech_distance + c_tech + c_tech_day + c_penalty\n",
    "opt_model.objective = mip.minimize(objective_func)"
   ]
  },
  {
   "cell_type": "markdown",
   "id": "fiscal-portfolio",
   "metadata": {},
   "source": [
    "## Constraints"
   ]
  },
  {
   "cell_type": "markdown",
   "id": "animated-stadium",
   "metadata": {},
   "source": [
    "### Decision variable used for calculation"
   ]
  },
  {
   "cell_type": "markdown",
   "id": "indonesian-component",
   "metadata": {},
   "source": [
    "### $u_k - x_{tkij} \\geq 0 \\hspace{0.3cm} \\forall \\hspace{0.1cm} t \\in \\{0,\\ldots,T-1\\}, k \\in K, (i,j) \\in E$"
   ]
  },
  {
   "cell_type": "code",
   "execution_count": 96,
   "id": "comparative-feelings",
   "metadata": {},
   "outputs": [],
   "source": [
    "for t in range(DAYS-1):\n",
    "    for k in trucks:\n",
    "        for i in range(len(x[t][k])):\n",
    "            for j in range(len(x[t][k][i])):\n",
    "                opt_model += u[k] - x[t][k][i][j] >= 0"
   ]
  },
  {
   "cell_type": "markdown",
   "id": "eastern-equilibrium",
   "metadata": {},
   "source": [
    "### $v_{tk} - x_{tkij} \\geq 0 \\hspace{0.3cm} \\forall \\hspace{0.1cm} t \\in \\{0,\\ldots,T-1\\}, k \\in K, (i,j) \\in E$"
   ]
  },
  {
   "cell_type": "code",
   "execution_count": 97,
   "id": "minor-weekly",
   "metadata": {},
   "outputs": [],
   "source": [
    "for t in range(DAYS-1):\n",
    "    for k in trucks:\n",
    "        for i in range(len(x[t][k])):\n",
    "            for j in range(len(x[t][k][i])):\n",
    "                opt_model += v[t][k] - x[t][k][i][j] >= 0"
   ]
  },
  {
   "cell_type": "markdown",
   "id": "verified-activity",
   "metadata": {},
   "source": [
    "### $p_h - y_{thij} \\geq 0 \\hspace{0.3cm} \\forall \\hspace{0.1cm} t \\in \\{1,\\ldots,T\\}, h \\in H, (i,j) \\in E$"
   ]
  },
  {
   "cell_type": "code",
   "execution_count": 98,
   "id": "medieval-suicide",
   "metadata": {},
   "outputs": [],
   "source": [
    "for t in range(DAYS-1):\n",
    "    for h in technicians:\n",
    "        for i in range(len(y[t][h])):\n",
    "            for j in range(len(y[t][h][i])):\n",
    "                opt_model += p[h] - y[t][h][i][j] >= 0"
   ]
  },
  {
   "cell_type": "markdown",
   "id": "equivalent-wrapping",
   "metadata": {},
   "source": [
    "### $ q_{th} - y_{thij} \\geq 0 \\hspace{0.3cm} \\forall \\hspace{0.1cm} t \\in \\{1,\\ldots,T\\}, h \\in H, (i,j) \\in E$"
   ]
  },
  {
   "cell_type": "code",
   "execution_count": 99,
   "id": "supreme-sewing",
   "metadata": {},
   "outputs": [],
   "source": [
    "for t in range(DAYS-1):\n",
    "    for h in technicians:\n",
    "        for i in range(len(y[t][h])):\n",
    "            for j in range(len(y[t][h][i])):\n",
    "                opt_model += q[t][h] - y[t][h][i][j] >= 0"
   ]
  },
  {
   "cell_type": "markdown",
   "id": "married-extension",
   "metadata": {},
   "source": [
    "### Truck distance \n",
    "### $\\sum\\limits_{(i,j) \\in E_x} x_{tkij} c_{ij} \\leq \\delta \\hspace{0.5cm} \\forall \\hspace{0.1cm} t \\in \\{0,\\ldots,T-1\\}, k \\in K$"
   ]
  },
  {
   "cell_type": "code",
   "execution_count": 100,
   "id": "wanted-amsterdam",
   "metadata": {},
   "outputs": [],
   "source": [
    "for t in range(DAYS-1):\n",
    "    for k in trucks:\n",
    "         opt_model += (mip.xsum(x[t][k][i][j] * calc_edge_cost(x,t,k,i,j,edges_index,cost_edges) \n",
    "                        for i in range(len(x[t][k])) for j in range(len(x[t][k][i])))) <= TRUCK_MAX_DISTANCE, \"truck_dist\""
   ]
  },
  {
   "cell_type": "markdown",
   "id": "banner-stanley",
   "metadata": {},
   "source": [
    "### Technician distance\n",
    "### $\\sum\\limits_{(i,j) \\in E_y} y_{thij} c_{ij} \\leq \\omega_{h} \\hspace{0.5cm} \\forall \\hspace{0.1cm} t \\in \\{1,\\ldots,T\\}, h \\in H$"
   ]
  },
  {
   "cell_type": "code",
   "execution_count": 101,
   "id": "similar-offering",
   "metadata": {},
   "outputs": [],
   "source": [
    "for t in range(DAYS-1):\n",
    "    for h in technicians:\n",
    "         opt_model += (mip.xsum(y[t][h][i][j] * calc_edge_cost(y,t,h,i,j,edges_index,cost_edges) \n",
    "                        for i in range(len(y[t][h])) for j in range(len(y[t][h][i])))) <= technician_max_distance[h], \"tech_dist\""
   ]
  },
  {
   "cell_type": "markdown",
   "id": "architectural-hartford",
   "metadata": {},
   "source": [
    "### Technician visits\n",
    "### $\\sum\\limits_{i \\in N_y}\\sum\\limits_{j \\in \\mathcal{C}} y_{thij} \\leq r_h \\hspace{0.5cm} \\forall \\hspace{0.1cm} t \\in \\{1,\\ldots,T\\}, h \\in H, (i \\neq j) $"
   ]
  },
  {
   "cell_type": "code",
   "execution_count": 102,
   "id": "paperback-vision",
   "metadata": {},
   "outputs": [],
   "source": [
    "# for i in range(len(y[0][0])):\n",
    "#     for j in range(len(y[0][0][i])):\n",
    "#         if int(y[0][0][i][j].name.split(\"_\")[4]) in customer_nodes:\n",
    "#             print(y[0][0][i][j])"
   ]
  },
  {
   "cell_type": "code",
   "execution_count": 103,
   "id": "double-three",
   "metadata": {},
   "outputs": [],
   "source": [
    "for t in range(DAYS-1):\n",
    "    for h in technicians:\n",
    "        opt_model += (mip.xsum(y[t][h][i][j] for i in range(len(y[t][h])) for j in range(len(y[t][h][i]))\n",
    "                if int(y[t][h][i][j].name.split(\"_\")[4]) in customer_nodes)) <=technician_max_visits[h], \"tech_visit\""
   ]
  },
  {
   "cell_type": "markdown",
   "id": "induced-length",
   "metadata": {},
   "source": [
    "### Customer delivery (trucks)\n",
    "### $\\sum\\limits_{t=0}^{T-1}\\sum\\limits_{k \\in K}\\sum\\limits_{i \\in N_x, i \\neq j} x_{tkij} = 1 \\hspace{0.5cm} \\forall \\hspace{0.1cm} j \\in \\mathcal{C} $"
   ]
  },
  {
   "cell_type": "code",
   "execution_count": 104,
   "id": "stone-brooklyn",
   "metadata": {},
   "outputs": [],
   "source": [
    "for j in customer_nodes:\n",
    "    opt_model += (mip.xsum(x[t][k][i][j-1] for t in range(DAYS-1) for k in trucks for i in x_nodes if i<j) + \n",
    "    mip.xsum(x[t][k][i][j] for t in range(DAYS-1) for k in trucks for i in x_nodes if i>j)) == 1 , \"cust_delivery\""
   ]
  },
  {
   "cell_type": "markdown",
   "id": "crazy-shock",
   "metadata": {},
   "source": [
    "### Customer delivery (technicians)\n",
    "### $ \\sum\\limits_{t=1}^{T}\\sum\\limits_{h \\in H}\\sum\\limits_{i \\in N_y, i \\neq j} y_{thij} = 1 \\hspace{0.5cm} \\forall \\hspace{0.1cm} j \\in \\mathcal{C}$"
   ]
  },
  {
   "cell_type": "code",
   "execution_count": 105,
   "id": "undefined-spanking",
   "metadata": {},
   "outputs": [],
   "source": [
    "for j in customers:\n",
    "    opt_model += (mip.xsum(y[t][h][i][j-1] for t in range(DAYS-1) for h in technicians for i in range(len(y[t][h])) if i<j) + \n",
    "    mip.xsum(y[t][h][i][j] for t in range(DAYS-1) for h in technicians for i in range(len(y[t][h])) if i>j)) == 1, \"tech_delivery\""
   ]
  },
  {
   "cell_type": "markdown",
   "id": "threaded-bachelor",
   "metadata": {},
   "source": [
    "### Node enter and leave\n",
    "### $\\sum\\limits_{i \\in N_x, i \\neq n} x_{tkin} - \\sum\\limits_{j \\in N_x, j \\neq n} x_{tknj} = 0 \\hspace{0.5cm} \\forall \\hspace{0.1cm} t \\in \\{0,\\ldots,T-1\\}, k \\in K, n \\in N_x$"
   ]
  },
  {
   "cell_type": "code",
   "execution_count": 106,
   "id": "extra-gamma",
   "metadata": {},
   "outputs": [],
   "source": [
    "for t in range(DAYS-1):\n",
    "    for k in trucks:\n",
    "        for n in x_nodes:\n",
    "            opt_model += ((mip.xsum(x[t][k][i][n-1] for i in x_nodes if i<n) + mip.xsum(x[t][k][i][n] for i in x_nodes if i>n)) - \n",
    "            (mip.xsum(x[t][k][n][j-1]  for j in x_nodes  if n<j) + mip.xsum(x[t][k][n][j]  for j in x_nodes  if n>j))) == 0, 'node_ent_leave_x'"
   ]
  },
  {
   "cell_type": "markdown",
   "id": "injured-porter",
   "metadata": {},
   "source": [
    "### Customer enter and leave\n",
    "### $\\sum\\limits_{i \\in N_x, i \\neq n} x_{tkin} - \\sum\\limits_{j \\in N_x, j \\neq n} x_{tknj} = 0 \\hspace{0.5cm} \\forall \\hspace{0.1cm} t \\in \\{1,\\ldots,T\\}, k \\in K, n \\in \\mathcal{C}$"
   ]
  },
  {
   "cell_type": "code",
   "execution_count": 107,
   "id": "exterior-tomato",
   "metadata": {},
   "outputs": [],
   "source": [
    "# for n in customer_nodes:\n",
    "#     print(((mip.xsum(x[0][0][i][n-1] for i in x_nodes if i<n) + mip.xsum(x[0][0][i][n] for i in x_nodes if i>n)) - \n",
    "#     (mip.xsum(x[0][0][n][j-1]  for j in x_nodes  if n<j) + mip.xsum(x[0][0][n][j]  for j in x_nodes  if n>j))) == 0)"
   ]
  },
  {
   "cell_type": "code",
   "execution_count": 108,
   "id": "bored-garlic",
   "metadata": {},
   "outputs": [],
   "source": [
    "# for t in range(DAYS):\n",
    "#     for k in trucks:\n",
    "#         for n in customer_nodes:\n",
    "#             opt_model += ((mip.xsum(x[t][k][i][n-1] for i in x_nodes if i<n) + mip.xsum(x[t][k][i][n] for i in x_nodes if i>n)) - \n",
    "#             (mip.xsum(x[t][k][n][j-1]  for j in x_nodes  if n<j) + mip.xsum(x[t][k][n][j]  for j in x_nodes  if n>j))) == 0, \"cust_ent_leave\""
   ]
  },
  {
   "cell_type": "markdown",
   "id": "retained-ghana",
   "metadata": {},
   "source": [
    "###  $\\sum_{i \\in N_y,i \\neq n} y_{thin} - \\sum_{j \\in N_y,j \\neq n} y_{thnj} = 0 \\hspace{0.5cm} \\forall \\hspace{0.1cm} t \\in \\{1,\\ldots,T\\}, h \\in H, n \\in \\mathcal{C}$"
   ]
  },
  {
   "cell_type": "code",
   "execution_count": 109,
   "id": "wireless-archive",
   "metadata": {},
   "outputs": [],
   "source": [
    "for t in range(DAYS-1):\n",
    "    for h in technicians:\n",
    "        for n in customers:\n",
    "            opt_model += ((mip.xsum(y[t][h][i][n-1] for i in range(len(y[t][h])) if i<n) \n",
    "                           + mip.xsum(y[t][h][i][n] for i in range(len(y[t][h])) if i>n)) \n",
    "                           - mip.xsum(y[t][h][n][j]  for j in range(len(y[t][h][n])))) == 0, \"tech_ent_leave\""
   ]
  },
  {
   "cell_type": "markdown",
   "id": "paperback-imagination",
   "metadata": {},
   "source": [
    "### Depot/home leave and enter constraint\n",
    "### $\\sum_{j \\in N_x} x_{tk0j} - \\sum_{j \\in N_x} x_{tkj0} = 0\\hspace{0.5cm} \\forall \\hspace{0.1cm} t \\in \\{1,\\ldots,T\\}, k \\in K$"
   ]
  },
  {
   "cell_type": "code",
   "execution_count": 110,
   "id": "behind-oregon",
   "metadata": {},
   "outputs": [],
   "source": [
    "# #note that for the first sumation the index is shifted since i < j for all j\n",
    "# for t in range(DAYS):\n",
    "#     for k in trucks:\n",
    "#         opt_model += (mip.xsum(x[t][k][0][j-1] for j in x_nodes if j != 0) - \n",
    "#         mip.xsum(x[t][k][j][0] for j in x_nodes if j != 0)) == 0, \"depot_ent_leave\""
   ]
  },
  {
   "cell_type": "markdown",
   "id": "typical-market",
   "metadata": {},
   "source": [
    "### $\\sum_{j \\in N_y} y_{thi_{h}j} - \\sum_{j \\in N_y} y_{thji_{h}} = 0 \\hspace{0.5cm} \\forall \\hspace{0.1cm} t \\in \\{1,\\ldots,T\\}, h \\in H,$"
   ]
  },
  {
   "cell_type": "code",
   "execution_count": 111,
   "id": "organizational-institute",
   "metadata": {},
   "outputs": [],
   "source": [
    "# print(technician_nodes)\n",
    "# print([h-(len(nodes) - len(technician_nodes)) for h in technician_nodes])\n",
    "# print(technicians)"
   ]
  },
  {
   "cell_type": "code",
   "execution_count": 112,
   "id": "guided-monitor",
   "metadata": {},
   "outputs": [],
   "source": [
    "# for t in range(DAYS-1):\n",
    "#     for h in technician_nodes:\n",
    "#         print(y[t][h-(len(nodes) - len(technician_nodes))][h-1][0].name)"
   ]
  },
  {
   "cell_type": "code",
   "execution_count": 113,
   "id": "diverse-charles",
   "metadata": {},
   "outputs": [],
   "source": [
    "# for h in technician_nodes:\n",
    "#     print(\"NEXT\")\n",
    "#     for j in range(len(y[t][h-(len(nodes) - len(technician_nodes))])-len(technician_nodes)):\n",
    "#         print(h-2)\n",
    "#         print(y[t][h-(len(nodes) - len(technician_nodes))][j][h-2])"
   ]
  },
  {
   "cell_type": "code",
   "execution_count": 114,
   "id": "duplicate-violation",
   "metadata": {},
   "outputs": [],
   "source": [
    "for t in range(DAYS-1):\n",
    "    for h in technician_nodes:\n",
    "        opt_model += ((mip.xsum(y[t][h-(len(nodes) - len(technician_nodes))][h-1][j] for j in \n",
    "                         range(len(y[t][h-(len(nodes) - len(technician_nodes))][h-1]))))\n",
    "         + (mip.xsum(y[t][h-(len(nodes) - len(technician_nodes))][j][h-2] for j in \n",
    "                        range(len(y[t][h-(len(nodes) - len(technician_nodes))])-len(technician_nodes)))) == 0), \"home_ent_leave\""
   ]
  },
  {
   "cell_type": "markdown",
   "id": "comic-childhood",
   "metadata": {},
   "source": [
    "### Delivery window\n",
    "### $ a_j \\sum_{t=0}^{T-1}\\sum_{k \\in K}\\sum_{i \\in N_x} x_{tkij} - \\sum_{t=0}^{T-1}\\sum_{k \\in K}\\sum_{i \\in N_x} t x_{tkij} \\leq 0 \\hspace{0.5cm} \\forall \\hspace{0.1cm} j \\in \\mathcal{C} $"
   ]
  },
  {
   "cell_type": "code",
   "execution_count": 115,
   "id": "frozen-revolution",
   "metadata": {},
   "outputs": [],
   "source": [
    "for j in customer_nodes:\n",
    "    opt_model += start_delivery_window[j-1] * (mip.xsum(x[t][k][i][j-1] for t in range(DAYS-1) for k in trucks for i in x_nodes if i<j) \n",
    "      + mip.xsum(x[t][k][i][j] for t in range(DAYS-1) for k in trucks for i in x_nodes if i>j)) - (mip.xsum(t*x[t][k][i][j-1] for t in range(DAYS-1) for k in trucks for i in x_nodes if i<j) \n",
    "       + mip.xsum(t*x[t][k][i][j] for t in range(DAYS-1) for k in trucks for i in x_nodes if i>j)) <= 0, \"start_delivery_window\""
   ]
  },
  {
   "cell_type": "markdown",
   "id": "grave-cosmetic",
   "metadata": {},
   "source": [
    "### $ \\sum_{t=0}^{T-1}\\sum_{k \\in K}\\sum_{i \\in N_x} t x_{tkij} - b_j \\leq 0 \\hspace{0.5cm} \\forall \\hspace{0.1cm} j \\in \\mathcal{C} $"
   ]
  },
  {
   "cell_type": "code",
   "execution_count": 116,
   "id": "fancy-massachusetts",
   "metadata": {},
   "outputs": [],
   "source": [
    "for j in customer_nodes:\n",
    "    opt_model += (mip.xsum(t*x[t][k][i][j-1] for t in range(DAYS-1) for k in trucks for i in x_nodes if i<j) \n",
    "      + mip.xsum(t*x[t][k][i][j] for t in range(DAYS-1) for k in trucks for i in x_nodes if i>j)) - end_delivery_window[j-1] <= 0, \"end_delivery_window\""
   ]
  },
  {
   "cell_type": "markdown",
   "id": "streaming-report",
   "metadata": {},
   "source": [
    "### $    \\sum_{t=0}^{T-1}\\sum_{k \\in K}\\sum_{i \\in N_x} t x_{tkij} - \\sum_{t=1}^{T}\\sum_{h \\in H}\\sum_{i \\in N_y} t y_{thij} + 1 \\leq 0\\hspace{0.5cm} \\forall \\hspace{0.1cm} j \\in \\mathcal{C}$"
   ]
  },
  {
   "cell_type": "code",
   "execution_count": 117,
   "id": "occupational-extreme",
   "metadata": {},
   "outputs": [],
   "source": [
    "for j in customer_nodes:\n",
    "    opt_model += ((mip.xsum(t*x[t][k][i][j-1] for t in range(DAYS-1) for k in trucks for i in x_nodes if i<j) \n",
    "      + mip.xsum(t*x[t][k][i][j] for t in range(DAYS-1) for k in trucks for i in x_nodes if i>j)) - \n",
    "        (mip.xsum((t+1)*y[t][h][i][j-2] for t in range(DAYS-1) for h in technicians for i in range(len(y[t][h][j-1])+1) if i<j-1) \n",
    "      + mip.xsum((t+1)*y[t][h][i][j-1] for t in range(DAYS-1) for h in technicians for i in range(len(y[t][h])) if i>j-1)) + 1) <= 0, \"start_installation_window\""
   ]
  },
  {
   "cell_type": "markdown",
   "id": "challenging-cross",
   "metadata": {},
   "source": [
    "### $ \\sum_{t=1}^{T}\\sum_{h \\in H}\\sum_{i \\in N} t y_{thij} - T \\leq 0 \\hspace{0.5cm} \\forall \\hspace{0.1cm} j \\in \\mathcal{C}$"
   ]
  },
  {
   "cell_type": "code",
   "execution_count": 118,
   "id": "popular-canvas",
   "metadata": {},
   "outputs": [],
   "source": [
    "for j in customer_nodes:\n",
    "    opt_model += (mip.xsum((t+1)*y[t][h][i][j-2] for t in range(DAYS-1) for h in technicians for i in range(len(y[t][h][j-1])+1) if i<j-1) \n",
    "      + mip.xsum((t+1)*y[t][h][i][j-1] for t in range(DAYS-1) for h in technicians for i in range(len(y[t][h])) if i>j-1)) - (DAYS-1) <= 0, \"end_installation_window\" "
   ]
  },
  {
   "cell_type": "markdown",
   "id": "color-cornell",
   "metadata": {},
   "source": [
    "### Truck capacity\n",
    "### $\\sum_{i \\in N_x, i \\neq j}x_{tkij} d_j s_{m_j} - z_{tkj} \\leq 0 \\hspace{0.5cm} \\forall \\hspace{0.1cm} t \\in \\{0,\\ldots,T-1\\}, k \\in K, j \\in \\mathcal{C}$"
   ]
  },
  {
   "cell_type": "code",
   "execution_count": 119,
   "id": "color-savage",
   "metadata": {},
   "outputs": [],
   "source": [
    "def ordersize_tkj(t,k,j,x_nodes,customer_order_size,machine_size,customer_machine_types):\n",
    "    \"\"\"\n",
    "    Purpose: \n",
    "        Returns the expression which is used to calculate the ordersize for customer j on day t in truck k,\n",
    "        based on binary variable x \n",
    "    Input:\n",
    "        t, int: day on which the ordersize is calculated\n",
    "        k, int: truck for which the ordersize is calculated\n",
    "        j, int: customer_node for which the ordersize is calculated\n",
    "        customer_order_size, list: order size of each customer\n",
    "        machine_size, list: machine size of each machine type\n",
    "        customer_machine_types, list: type of machine the customer ordered\n",
    "        x_nodes, dict: with the nodes used to the x variable\n",
    "    Output:\n",
    "        ordersize_tkj, mip.entities.LinExpr: linear expression which is used to calculate the ordersize \n",
    "    \"\"\"\n",
    "    ordersize_j = customer_order_size[j-1] * machine_size[customer_machine_types[j-1]]\n",
    "    ordersize_tkj = ordersize_j * (mip.xsum(x[t][k][n][j-1] for n in x_nodes if n<j) + mip.xsum(x[t][k][n][j] for n in x_nodes if n>j)) \n",
    "    return  ordersize_tkj"
   ]
  },
  {
   "cell_type": "code",
   "execution_count": 120,
   "id": "bigger-sharing",
   "metadata": {},
   "outputs": [],
   "source": [
    "for t in range(DAYS-1):\n",
    "    for k in trucks:\n",
    "        for j in customer_nodes:\n",
    "            opt_model += ordersize_tkj(t,k,j,x_nodes,customer_order_size,machine_size\n",
    "                                       ,customer_machine_types) - z[t][k][j-1] <= 0, \"truck_capacity_lower\""
   ]
  },
  {
   "cell_type": "markdown",
   "id": "opponent-matter",
   "metadata": {},
   "source": [
    "### $z_{tkj} \\leq Q \\hspace{0.5cm} \\forall \\hspace{0.1cm} t \\in \\{0,\\ldots,T-1\\}, k \\in K, j \\in \\mathcal{C}$"
   ]
  },
  {
   "cell_type": "code",
   "execution_count": 121,
   "id": "meaning-stocks",
   "metadata": {},
   "outputs": [],
   "source": [
    "for t in range(DAYS-1):\n",
    "    for k in trucks:\n",
    "        for j in customer_nodes:\n",
    "            opt_model += z[t][k][j-1] <= TRUCK_CAPACITY, \"truck_capacity_upper\""
   ]
  },
  {
   "cell_type": "markdown",
   "id": "arctic-shuttle",
   "metadata": {},
   "source": [
    "### Cumulative load calculation\n",
    "### $z_j - z_i - \\sum_{n \\in N_x, n \\neq j}x_{tknj} d_j s_{m_j} + Q(1-x_{tkij}) \\geq 0 \\hspace{0.5cm} \\forall \\hspace{0.1cm} t \\in \\{0,\\ldots,T-1\\}, k \\in K, i \\in \\mathcal{C}, j \\in \\mathcal{C}, i \\neq j$"
   ]
  },
  {
   "cell_type": "code",
   "execution_count": 122,
   "id": "ancient-union",
   "metadata": {},
   "outputs": [],
   "source": [
    "for t in range(DAYS-1):\n",
    "    for k in trucks:\n",
    "        for i in range(len(x[t][k])):\n",
    "            for j in range(len(x[t][k][i])):\n",
    "                var_name = x[t][k][i][j].name\n",
    "                var_name_split = var_name.split(\"_\")\n",
    "                outgoing_node = int(var_name_split[3])\n",
    "                incoming_node = int(var_name_split[4])\n",
    "                if (outgoing_node != 0) and (incoming_node != 0) and (outgoing_node != incoming_node):\n",
    "                    opt_model += z[t][k][incoming_node-1] - z[t][k][outgoing_node-1] - ordersize_tkj(t,k,incoming_node,x_nodes\n",
    "                                    ,customer_order_size,machine_size,\n",
    "                                    customer_machine_types) + TRUCK_CAPACITY * (1 - x[t][k][i][j]) >= 0, \"cumulative_load\""
   ]
  },
  {
   "cell_type": "markdown",
   "id": "collect-interest",
   "metadata": {},
   "source": [
    "### Technician skillset\n",
    "### $g_{hm_{j}} - \\sum_{t=1}^{T} \\sum_{i \\in N_y, i \\neq j} y_{thij} \\geq 0 \\hspace{0.5cm} \\forall \\hspace{0.1cm} h \\in H, j \\in \\mathcal{C}$"
   ]
  },
  {
   "cell_type": "code",
   "execution_count": 123,
   "id": "alike-brunswick",
   "metadata": {},
   "outputs": [],
   "source": [
    "for h in technicians:\n",
    "    for j in customer_nodes:\n",
    "        opt_model += technician_skill_set[h][customer_machine_types[j-1]] - (mip.xsum(y[t][h][i][j-2] for t in range(DAYS-1) \n",
    "                       for i in range(len(y[t][h][j-1])+1) if i<j-1) + \n",
    "              mip.xsum(y[t][h][i][j-1] for t in range(DAYS-1) for i in range(len(y[t][h])) if i>j-1)) >= 0, \"tech_skillset\" "
   ]
  },
  {
   "cell_type": "markdown",
   "id": "handmade-cosmetic",
   "metadata": {},
   "source": [
    "### Consecutive work days technicians\n",
    "### $4 + w_{th} - \\sum\\limits_{i=t-5}^{t-1} q_{ih} \\geq 0  \\hspace{0.5cm} \\forall \\hspace{0.1cm} t \\in \\{6,\\ldots,T\\}, h \\in H$"
   ]
  },
  {
   "cell_type": "code",
   "execution_count": 124,
   "id": "honey-gross",
   "metadata": {},
   "outputs": [],
   "source": [
    "for t in range(0,DAYS-6):\n",
    "    for h in technicians:\n",
    "        opt_model += 4 + w[t][h] - mip.xsum(q[i][h] for i in range(t,t+5)) >= 0, \"set_w_to_1\""
   ]
  },
  {
   "cell_type": "markdown",
   "id": "descending-entry",
   "metadata": {},
   "source": [
    "### $5w_{th} - \\sum\\limits_{i=t-5}^{t-1} q_{ih} \\leq 0  \\hspace{0.5cm} \\forall \\hspace{0.1cm} t \\in \\{6,\\ldots,T\\}, h \\in H$"
   ]
  },
  {
   "cell_type": "code",
   "execution_count": 125,
   "id": "natural-train",
   "metadata": {},
   "outputs": [],
   "source": [
    "for t in range(0,DAYS-6):\n",
    "    for h in technicians:\n",
    "        opt_model += 5*w[t][h] - mip.xsum(q[i][h] for i in range(t,t+5)) <= 0, \"set_w_to_0\""
   ]
  },
  {
   "cell_type": "markdown",
   "id": "emerging-street",
   "metadata": {},
   "source": [
    "### $w_{th} - L(w_{th}-1) - (q_{th}+1) \\geq 0  \\hspace{0.5cm} \\forall \\hspace{0.1cm} t \\in \\{6,\\ldots,T\\}, h \\in H$"
   ]
  },
  {
   "cell_type": "code",
   "execution_count": 126,
   "id": "protecting-iceland",
   "metadata": {},
   "outputs": [],
   "source": [
    "L = 1000\n",
    "for t in range(0,DAYS-6):\n",
    "    for h in technicians:\n",
    "        opt_model += w[t][h] - L*(w[t][h]-1) - (q[t+5][h]+1) >= 0, \"consecutive_days_t\""
   ]
  },
  {
   "cell_type": "markdown",
   "id": "productive-singing",
   "metadata": {},
   "source": [
    "### $w_{th} - L(w_{th}-1) - (q_{t+1h}+1) \\geq 0 \\hspace{0.5cm} \\forall \\hspace{0.1cm} t \\in \\{6,\\ldots,T-1\\}, h \\in H$"
   ]
  },
  {
   "cell_type": "code",
   "execution_count": 127,
   "id": "spread-relay",
   "metadata": {},
   "outputs": [],
   "source": [
    "L = 1000\n",
    "for t in range(0,DAYS-6-1):\n",
    "    for h in technicians:\n",
    "        opt_model += w[t][h] - L*(w[t][h]-1) - (q[t+6][h]+1) >= 0, \"consecutive_days_t+1\""
   ]
  },
  {
   "cell_type": "markdown",
   "id": "animal-brother",
   "metadata": {},
   "source": [
    "## Optimize"
   ]
  },
  {
   "cell_type": "code",
   "execution_count": 128,
   "id": "auburn-medicare",
   "metadata": {},
   "outputs": [],
   "source": [
    "opt_model.store_search_progress_log = True\n",
    "opt_model.search_progress_log.instance = \"VeRoLog\"\n",
    "opt_model.search_progress_log.settings = \"truck_dist\",\"tech_dist\",\"tech_visit\",\"cust_delivery\",\"tech_delivery\",\"cust_ent_leave\",\"tech_ent_leave\",\"depot_ent_leave\",\"home_ent_leave\",\"start_delivery_window\",\"end_delivery_window\",\"start_installation_window\",\"end_installation_window\",\"truck_capacity\",\"truck_capacity_lower\",\"truck_capacity_upper\",\"cumulative_load\",\"tech_skillset\",\"set_w_to_1\",\"set_w_to_0\",\"consecutive_days_t\",\"consecutive_days_t+1\""
   ]
  },
  {
   "cell_type": "code",
   "execution_count": 129,
   "id": "judicial-plasma",
   "metadata": {},
   "outputs": [],
   "source": [
    "opt_model.write(\"test.lp\")"
   ]
  },
  {
   "cell_type": "code",
   "execution_count": 130,
   "id": "composed-sender",
   "metadata": {},
   "outputs": [
    {
     "data": {
      "text/plain": [
       "<OptimizationStatus.FEASIBLE: 3>"
      ]
     },
     "execution_count": 130,
     "metadata": {},
     "output_type": "execute_result"
    }
   ],
   "source": [
    "opt_model.optimize(max_seconds=12*60)"
   ]
  },
  {
   "cell_type": "code",
   "execution_count": 131,
   "id": "binding-miller",
   "metadata": {},
   "outputs": [],
   "source": [
    "opt_model.search_progress_log.write(\"TestResults\")"
   ]
  },
  {
   "cell_type": "markdown",
   "id": "accompanied-professor",
   "metadata": {},
   "source": [
    "## Solution"
   ]
  },
  {
   "cell_type": "code",
   "execution_count": 132,
   "id": "protected-christopher",
   "metadata": {},
   "outputs": [
    {
     "name": "stdout",
     "output_type": "stream",
     "text": [
      "route with total cost 501172 found\n"
     ]
    }
   ],
   "source": [
    "if opt_model.num_solutions:\n",
    "    print('route with total cost %g found' % (opt_model.objective_value))"
   ]
  },
  {
   "cell_type": "markdown",
   "id": "removable-light",
   "metadata": {},
   "source": [
    "### Check if the constraints are satisfied"
   ]
  },
  {
   "cell_type": "code",
   "execution_count": 133,
   "id": "fallen-blind",
   "metadata": {},
   "outputs": [
    {
     "name": "stdout",
     "output_type": "stream",
     "text": [
      "On day  2  truck  0  drives from node  0  to node  3\n",
      "On day  2  truck  0  drives from node  3  to node  5\n",
      "On day  2  truck  0  drives from node  5  to node  0\n",
      "On day  3  truck  0  drives from node  0  to node  2\n",
      "On day  3  truck  0  drives from node  0  to node  6\n",
      "On day  3  truck  0  drives from node  1  to node  0\n",
      "On day  3  truck  0  drives from node  2  to node  1\n",
      "On day  3  truck  0  drives from node  6  to node  0\n",
      "On day  4  truck  0  drives from node  0  to node  4\n",
      "On day  4  truck  0  drives from node  0  to node  7\n",
      "On day  4  truck  0  drives from node  4  to node  0\n",
      "On day  4  truck  0  drives from node  7  to node  0\n",
      "The following customers had their machine delivered: [3, 5, 2, 6, 1, 4, 7]\n",
      "The following trucks were used: [0]\n",
      "The trucks drive the following distances:  [0, 0, 0, 0, 0, 0, 160, 0, 0, 170, 0, 0, 100, 0, 0, 0, 0, 0]  the maximum distance is  250\n",
      "On day  3  technician  3  drives from node  3  to node  5\n",
      "On day  3  technician  3  drives from node  5  to node  3\n",
      "On day  4  technician  2  drives from node  2  to node  8\n",
      "On day  4  technician  2  drives from node  8  to node  2\n",
      "On day  4  technician  3  drives from node  1  to node  9\n",
      "On day  4  technician  3  drives from node  6  to node  1\n",
      "On day  4  technician  3  drives from node  12  to node  6\n",
      "On day  5  technician  3  drives from node  4  to node  7\n",
      "On day  5  technician  3  drives from node  7  to node  4\n",
      "The following customers had their machine installed: [5, 3, 2, 1, 6, 7, 4]\n",
      "The following technicians were used: [3, 2]\n",
      "The technicians drive the following distances:  [0, 0, 0, 0, 0, 0, 0, 0, 0, 0, 0, 0, 0, 100, 0, 0, 0, 0, 62, 0, 0, 0, 0, 80, 0, 0, 0, 0, 0, 0]  the maximum distance is  [100, 100, 100, 100, 50]\n",
      "The technicians have the following number of visits:  [0, 0, 0, 0, 0, 0, 0, 0, 0, 0, 0, 0, 0, 2, 0, 0, 0, 1, 2, 0, 0, 0, 0, 2, 0, 0, 0, 0, 0, 0]  the maximum visits is  [2, 1, 5, 2, 1]\n"
     ]
    }
   ],
   "source": [
    "delivered = []\n",
    "trucks_used = []\n",
    "truck_distances = []\n",
    "truck_delivery_day = {}\n",
    "for t in range(DAYS-1):\n",
    "    for k in trucks:\n",
    "        total_dist = 0\n",
    "        for i in range(len(x[t][k])):\n",
    "            for j in range(len(x[t][k][i])):\n",
    "                if x[t][k][i][j].x >= 0.99:\n",
    "                    var_name = x[t][k][i][j].name\n",
    "                    var_name_strip = var_name.split(\"_\")\n",
    "                    print('On day ',t,' truck ', k,' drives from node ',var_name_strip[3],' to node ',var_name_strip[4])\n",
    "                    if int(var_name_strip[4]) in customer_nodes.keys():\n",
    "                        delivered.append(int(var_name_strip[4]))\n",
    "                        if t < start_delivery_window[int(var_name_strip[4])-1]:\n",
    "                            print('This order was delivered before the start of the delivery window: ',var_name_strip[4])\n",
    "                        if t > end_delivery_window[int(var_name_strip[4])-1]:\n",
    "                            print(\"This order was delivered too late: \",var_name_strip[4])\n",
    "                        truck_delivery_day[var_name_strip[4]] = t\n",
    "                    if k not in trucks_used:\n",
    "                        trucks_used.append(k)\n",
    "                    total_dist += calc_edge_cost(x,t,k,i,j,edges_index,cost_edges)\n",
    "        truck_distances.append(total_dist)\n",
    "print(\"The following customers had their machine delivered:\",delivered)\n",
    "print(\"The following trucks were used:\",trucks_used)\n",
    "print(\"The trucks drive the following distances: \",truck_distances,\" the maximum distance is \",TRUCK_MAX_DISTANCE)\n",
    "installed = []\n",
    "technicians_used = []\n",
    "technicians_distances = []\n",
    "technicians_visits = []\n",
    "for t in range(DAYS-1):\n",
    "    for h in technicians:\n",
    "        total_dist = 0\n",
    "        total_visits = 0\n",
    "        for i in range(len(y[t][h])):\n",
    "            for j in range(len(y[t][h][i])):\n",
    "                if y[t][h][i][j].x >= 0.99:\n",
    "                    var_name = y[t][h][i][j].name\n",
    "                    var_name_strip = var_name.split(\"_\")\n",
    "                    print('On day ',int(var_name_strip[1]),' technician ', h,' drives from node ',var_name_strip[3],' to node ',var_name_strip[4])\n",
    "                    if int(var_name_strip[4]) in customer_nodes.keys():\n",
    "                        installed.append(int(var_name_strip[4]))\n",
    "                        if int(var_name_strip[1]) <= truck_delivery_day[var_name_strip[4]]:\n",
    "                            print(\"This machine was installed too early: \",var_name_strip[4], \", delivery was on day \"\n",
    "                                  ,truck_delivery_day[var_name_strip[4]], \"and installation on day \",t)   \n",
    "                        if technician_skill_set[h][customer_machine_types[int(var_name_strip[4])-1]] == 0:\n",
    "                            print(\"The chosen technician does not have the skillset to install this machine\")\n",
    "                    if h not in technicians_used:\n",
    "                        technicians_used.append(h)     \n",
    "                    total_dist += calc_edge_cost(y,t,h,i,j,edges_index,cost_edges)\n",
    "                    if int(var_name_strip[4]) not in technician_nodes.keys():\n",
    "                        total_visits += 1 \n",
    "\n",
    "        technicians_distances.append(total_dist)\n",
    "        technicians_visits.append(total_visits)\n",
    "print(\"The following customers had their machine installed:\",installed)\n",
    "print(\"The following technicians were used:\",technicians_used)\n",
    "print(\"The technicians drive the following distances: \",technicians_distances,\" the maximum distance is \",technician_max_distance)\n",
    "print(\"The technicians have the following number of visits: \",technicians_visits,\" the maximum visits is \",technician_max_visits)"
   ]
  },
  {
   "cell_type": "markdown",
   "id": "respective-postage",
   "metadata": {},
   "source": [
    "### check if the decision variables for the number of trucks (days) and technician (days) are correct"
   ]
  },
  {
   "cell_type": "code",
   "execution_count": 134,
   "id": "harmful-element",
   "metadata": {},
   "outputs": [
    {
     "name": "stdout",
     "output_type": "stream",
     "text": [
      "truck 0 1.0\n",
      "truck 1 0.0\n",
      "truck 2 0.0\n"
     ]
    }
   ],
   "source": [
    "for k in trucks:\n",
    "    print('truck',k,u[k].x)"
   ]
  },
  {
   "cell_type": "code",
   "execution_count": 135,
   "id": "empty-glossary",
   "metadata": {},
   "outputs": [
    {
     "name": "stdout",
     "output_type": "stream",
     "text": [
      "Day:  0 Truck:  0 variable 0.0\n",
      "Day:  1 Truck:  0 variable 0.0\n",
      "Day:  2 Truck:  0 variable 1.0\n",
      "Day:  3 Truck:  0 variable 1.0\n",
      "Day:  4 Truck:  0 variable 1.0\n",
      "Day:  5 Truck:  0 variable 0.0\n",
      "Day:  0 Truck:  1 variable 0.0\n",
      "Day:  1 Truck:  1 variable 0.0\n",
      "Day:  2 Truck:  1 variable 0.0\n",
      "Day:  3 Truck:  1 variable 0.0\n",
      "Day:  4 Truck:  1 variable 0.0\n",
      "Day:  5 Truck:  1 variable 0.0\n",
      "Day:  0 Truck:  2 variable 0.0\n",
      "Day:  1 Truck:  2 variable 0.0\n",
      "Day:  2 Truck:  2 variable 0.0\n",
      "Day:  3 Truck:  2 variable 0.0\n",
      "Day:  4 Truck:  2 variable 0.0\n",
      "Day:  5 Truck:  2 variable 0.0\n"
     ]
    }
   ],
   "source": [
    "for k in trucks:\n",
    "    for t in range(DAYS-1):\n",
    "        print(\"Day: \",t,\"Truck: \",k,\"variable\",v[t][k].x)"
   ]
  },
  {
   "cell_type": "code",
   "execution_count": 136,
   "id": "fluid-clerk",
   "metadata": {},
   "outputs": [
    {
     "name": "stdout",
     "output_type": "stream",
     "text": [
      "technician 0 0.0\n",
      "technician 1 0.0\n",
      "technician 2 1.0\n",
      "technician 3 1.0\n",
      "technician 4 0.0\n"
     ]
    }
   ],
   "source": [
    "for h in technicians:\n",
    "    print('technician',h,p[h].x)"
   ]
  },
  {
   "cell_type": "code",
   "execution_count": 137,
   "id": "potential-carter",
   "metadata": {},
   "outputs": [
    {
     "name": "stdout",
     "output_type": "stream",
     "text": [
      "Day:  1 Technician:  0 variable:  0.0\n",
      "Day:  2 Technician:  0 variable:  0.0\n",
      "Day:  3 Technician:  0 variable:  0.0\n",
      "Day:  4 Technician:  0 variable:  0.0\n",
      "Day:  5 Technician:  0 variable:  0.0\n",
      "Day:  6 Technician:  0 variable:  0.0\n",
      "Day:  1 Technician:  1 variable:  0.0\n",
      "Day:  2 Technician:  1 variable:  0.0\n",
      "Day:  3 Technician:  1 variable:  0.0\n",
      "Day:  4 Technician:  1 variable:  0.0\n",
      "Day:  5 Technician:  1 variable:  0.0\n",
      "Day:  6 Technician:  1 variable:  0.0\n",
      "Day:  1 Technician:  2 variable:  0.0\n",
      "Day:  2 Technician:  2 variable:  0.0\n",
      "Day:  3 Technician:  2 variable:  0.0\n",
      "Day:  4 Technician:  2 variable:  1.0\n",
      "Day:  5 Technician:  2 variable:  0.0\n",
      "Day:  6 Technician:  2 variable:  0.0\n",
      "Day:  1 Technician:  3 variable:  0.0\n",
      "Day:  2 Technician:  3 variable:  0.0\n",
      "Day:  3 Technician:  3 variable:  1.0\n",
      "Day:  4 Technician:  3 variable:  1.0\n",
      "Day:  5 Technician:  3 variable:  1.0\n",
      "Day:  6 Technician:  3 variable:  0.0\n",
      "Day:  1 Technician:  4 variable:  0.0\n",
      "Day:  2 Technician:  4 variable:  0.0\n",
      "Day:  3 Technician:  4 variable:  0.0\n",
      "Day:  4 Technician:  4 variable:  0.0\n",
      "Day:  5 Technician:  4 variable:  0.0\n",
      "Day:  6 Technician:  4 variable:  0.0\n"
     ]
    }
   ],
   "source": [
    "for h in technicians:\n",
    "    for t in range(DAYS-1):\n",
    "        print('Day: ',t+1,'Technician: ',h,'variable: ',q[t][h].x)"
   ]
  },
  {
   "cell_type": "code",
   "execution_count": 67,
   "id": "atomic-gregory",
   "metadata": {},
   "outputs": [
    {
     "name": "stdout",
     "output_type": "stream",
     "text": [
      "Day:  6 Technician:  0 variable:  0.0\n",
      "Day:  7 Technician:  0 variable:  0.0\n",
      "Day:  8 Technician:  0 variable:  0.0\n",
      "Day:  9 Technician:  0 variable:  0.0\n",
      "Day:  10 Technician:  0 variable:  0.0\n",
      "Day:  11 Technician:  0 variable:  0.0\n",
      "Day:  6 Technician:  1 variable:  0.0\n",
      "Day:  7 Technician:  1 variable:  0.0\n",
      "Day:  8 Technician:  1 variable:  0.0\n",
      "Day:  9 Technician:  1 variable:  0.0\n",
      "Day:  10 Technician:  1 variable:  0.0\n",
      "Day:  11 Technician:  1 variable:  0.0\n"
     ]
    }
   ],
   "source": [
    "for h in technicians:\n",
    "    for t in range(DAYS-6):\n",
    "        print('Day: ',t+6,'Technician: ',h,'variable: ',w[t][h].x)"
   ]
  },
  {
   "cell_type": "markdown",
   "id": "recorded-architect",
   "metadata": {},
   "source": [
    "### The variables have the expected values"
   ]
  },
  {
   "cell_type": "code",
   "execution_count": 68,
   "id": "broke-screen",
   "metadata": {},
   "outputs": [],
   "source": [
    "# f = open(\"TestResults.plog\",\"r\")\n",
    "# text = f.read()\n",
    "# text_constraints = text.split(\")\")[0]\n",
    "# text_values = text.split(\")\")[1]\n",
    "# print(text_constraints.strip(\"instance: VeRoLogsettings: (\").split(\",\"))\n"
   ]
  }
 ],
 "metadata": {
  "kernelspec": {
   "display_name": "Python 3",
   "language": "python",
   "name": "python3"
  },
  "language_info": {
   "codemirror_mode": {
    "name": "ipython",
    "version": 3
   },
   "file_extension": ".py",
   "mimetype": "text/x-python",
   "name": "python",
   "nbconvert_exporter": "python",
   "pygments_lexer": "ipython3",
   "version": "3.7.3"
  }
 },
 "nbformat": 4,
 "nbformat_minor": 5
}
