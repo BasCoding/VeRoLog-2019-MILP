{
 "cells": [
  {
   "cell_type": "markdown",
   "id": "entire-float",
   "metadata": {},
   "source": [
    "# In this notebook the code is developed to solve the VeRoLog solver challenge to optimality. mip is used to create and execute the created MILP. We use the example instance of the VeRoLog challenge since it is rather small. The index of some variables have been moved by 1 since python starts indexing at 0. The formulas in this notebook are written with LaTeX. In mip strict inequalities are not supported"
   ]
  },
  {
   "cell_type": "markdown",
   "id": "apparent-indian",
   "metadata": {},
   "source": [
    "## Imports"
   ]
  },
  {
   "cell_type": "code",
   "execution_count": 2,
   "id": "continuous-comfort",
   "metadata": {},
   "outputs": [],
   "source": [
    "import logging\n",
    "import math as math\n",
    "import matplotlib.pyplot as plt\n",
    "import networkx as nx\n",
    "import numpy as np\n",
    "import pandas as pd\n",
    "import time\n",
    "import mip as mip\n",
    "#import multiprocessing"
   ]
  },
  {
   "cell_type": "code",
   "execution_count": 3,
   "id": "environmental-brief",
   "metadata": {},
   "outputs": [],
   "source": [
    "logging.basicConfig(filename='VeRoLog MILP', level=logging.INFO,format='%(asctime)s:%(levelname)s:%(message)s')\n",
    "opt_model = mip.Model(name='VeRoLog',solver_name=mip.CBC)"
   ]
  },
  {
   "cell_type": "markdown",
   "id": "color-billion",
   "metadata": {},
   "source": [
    "## Input parameters (the variable used in the formulas are commented next to the variable)"
   ]
  },
  {
   "cell_type": "code",
   "execution_count": 4,
   "id": "mental-soundtrack",
   "metadata": {},
   "outputs": [],
   "source": [
    "DAYS = 7                                                #T\n",
    "technicians = [0,1,2,3,4]                                #H\n",
    "trucks = [i for i in range(3)]                        #K (arbitrarily chosen)\n",
    "machines = [0,1,2,3]                                         #M\n",
    "customers = [i for i in range(7)]                    #C\n",
    "\n",
    "customer_machine_types = [0,2,3,0,1,3,1]           #m_j\n",
    "machine_size = [2,1,3,2]                                     #s_{m_j}\n",
    "machine_penalty = [200,200,500,100]                              #pi_j\n",
    "customer_order_size = [1,1,2,3,1,1,4]              #d_j\n",
    "start_delivery_window = [0,2,1,4,0,0,2]              #a_j\n",
    "end_delivery_window =  [6,5,2,6,3,5,4]              #b_j\n",
    "technician_max_visits = [2,1,5,2,1]                      #r_h\n",
    "technician_max_distance = [100,100,100,100,50]     #omega_h\n",
    "technician_skill_set = [[0,1,1,1],[1,1,0,0],[0,0,1,0],[1,1,0,1],[1,1,1,1]]   #g_{h_m}\n",
    "TRUCK_MAX_DISTANCE = 250                                #delta\n",
    "TRUCK_CAPACITY = 6                                      #Q\n",
    "LARGE_NUMBER = 1000                                      #L\n",
    "\n",
    "TRUCK_DISTANCE_COST = 1                               #beta\n",
    "TRUCK_DAY_COST = 100                                  #alpha\n",
    "TRUCK_COST = 100000                                       #gamma\n",
    "TECHNICIAN_DISTANCE_COST = 1                           #phi\n",
    "TECHNICIAN_DAY_COST = 100000                              #lambda\n",
    "TECHNICIAN_COST = 100   "
   ]
  },
  {
   "cell_type": "code",
   "execution_count": 5,
   "id": "temporal-honolulu",
   "metadata": {},
   "outputs": [],
   "source": [
    "# # Alternative to test the consecutive working days constraint\n",
    "# DAYS = 12                                                #T\n",
    "# technicians = [0,1]                                #H\n",
    "# trucks = [i for i in range(3)]                        #K (arbitrarily chosen)\n",
    "# machines = [0,1,2,3]                                         #M\n",
    "# customers = [i for i in range(15)]                    #C\n",
    "\n",
    "# customer_machine_types = [0,2,3,0,1,3,1,3,1,2,0,0,3,2,0]           #m_j\n",
    "# machine_size = [2,1,3,2]                                     #s_{m_j}\n",
    "# machine_penalty = [200,200,500,100]                              #pi_j\n",
    "# customer_order_size = [1,1,2,3,1,1,4,1,1,1,1,1,1,1,1]              #d_j\n",
    "# start_delivery_window = [0,2,1,4,0,0,2,0,2,1,4,0,0,2,0]              #a_j\n",
    "# end_delivery_window =  [6,5,2,6,3,5,4,6,5,2,6,3,5,4,5]              #b_j\n",
    "# technician_max_visits = [2,1]                      #r_h\n",
    "# technician_max_distance = [200,300]     #omega_h\n",
    "# technician_skill_set = [[1,0,0,1],[1,1,1,1]]   #g_{h_m}\n",
    "# TRUCK_MAX_DISTANCE = 250                                #delta\n",
    "# TRUCK_CAPACITY = 6                                      #Q\n",
    "# LARGE_NUMBER = 1000                                      #L\n",
    "\n",
    "# TRUCK_DISTANCE_COST = 1                               #beta\n",
    "# TRUCK_DAY_COST = 100                                  #alpha\n",
    "# TRUCK_COST = 100000                                       #gamma\n",
    "# TECHNICIAN_DISTANCE_COST = 1                           #phi\n",
    "# TECHNICIAN_DAY_COST = 100000                              #lambda\n",
    "# TECHNICIAN_COST = 100                                     #mu"
   ]
  },
  {
   "cell_type": "markdown",
   "id": "rocky-representation",
   "metadata": {},
   "source": [
    "### Graph $G=(N,E)$"
   ]
  },
  {
   "cell_type": "code",
   "execution_count": 6,
   "id": "found-characteristic",
   "metadata": {},
   "outputs": [],
   "source": [
    "def tech_graph(h,technician_skill_set,technician_nodes,customer_nodes,customer_machine_types):\n",
    "    \"\"\"\n",
    "    Purpose,\n",
    "        Create a graph that includes the technician node and all the customer location where the technician can install\n",
    "    Input,\n",
    "        h, int: technician under consideration\n",
    "        technician_skill_set, list: the skillset of each technician\n",
    "        technician_nodes, dict: nodes of technicians\n",
    "        customer_nodes, dict: nodes of customers\n",
    "        customer_machine_types, list: machine type of each customer order/request\n",
    "    Output,\n",
    "        G_tech_h, networkx DiGraph for technician h\n",
    "    \"\"\"\n",
    "    G_tech_h = nx.DiGraph()\n",
    "    G_tech_h.add_nodes_from({key: technician_nodes[key] for key in [len(customer_nodes)+1+h]})\n",
    "    \n",
    "    customers_to_add = []\n",
    "    for i in customer_nodes:\n",
    "        if technician_skill_set[h][customer_machine_types[i-1]]:\n",
    "            customers_to_add.append(i)\n",
    "    \n",
    "    G_tech_h.add_nodes_from({key: customer_nodes[key] for key in customers_to_add})\n",
    "    \n",
    "    return G_tech_h\n",
    "# G_test = tech_graph(3,technician_skill_set,technician_nodes,customer_nodes,customer_machine_types)\n",
    "# print(G_test.nodes)"
   ]
  },
  {
   "cell_type": "code",
   "execution_count": 7,
   "id": "opponent-turtle",
   "metadata": {},
   "outputs": [],
   "source": [
    "#nodes: dictionary of x and y coordinates\n",
    "depot_node = {0:(10,50)}\n",
    "customer_nodes = {1:(20, 10),2:(50, 5),3:(33, 7),4:(40, 40),5:(70,40),6:(1, 35),7:(1, 35)}   #\\mathcal{C}\n",
    "technician_nodes = {8:(50,5),9:(10,5),10:(10,5),11:(25,60),12:(10,50)}                       #\\mathcal{H}\n",
    "nodes = {**depot_node,**customer_nodes,**technician_nodes}                                   #N\n",
    "x_nodes = {**depot_node,**customer_nodes}                                                    #N_x\n",
    "#y_nodes = {**customer_nodes,**technician_nodes}                                              #N_y\n",
    "number_of_nodes = len(nodes)\n",
    "#edges and cost\n",
    "count_0 = 0\n",
    "count_1 = 0\n",
    "# we first want the edges that connect the depot to each customer and each customer to each customer, the graph is directed\n",
    "edges_index = {}                                                                            #E\n",
    "cost_edges = [[] for i in nodes]\n",
    "for i in x_nodes:\n",
    "    count_1 = 0\n",
    "    for j in x_nodes:\n",
    "        if i!=j:\n",
    "            edges_index[(i,j)] = (count_0,count_1)\n",
    "            cost_edges[i].append(math.ceil(math.sqrt((x_nodes[i][0] - x_nodes[j][0])**2+(x_nodes[i][1]-x_nodes[j][1])**2)))\n",
    "            count_1 +=1\n",
    "    count_0 +=1\n",
    "# # we now want to connect the technician home locations to each customer where it can install\n",
    "for h in technicians:\n",
    "    tech_node = h+len(customer_nodes)+1\n",
    "    G_tech_h = tech_graph(h,technician_skill_set,technician_nodes,customer_nodes,customer_machine_types)\n",
    "    G_tech_h.remove_node(tech_node)\n",
    "    count_1 = 0\n",
    "    for cust_node in G_tech_h.nodes:\n",
    "        edges_index[(tech_node,cust_node)] = (count_0,count_1)\n",
    "        edges_index[(cust_node,tech_node)] = (count_0,count_1+1)\n",
    "        cost_edges[tech_node].append(math.ceil(math.sqrt((technician_nodes[tech_node][0]-customer_nodes[cust_node][0])**2+(technician_nodes[tech_node][1]-customer_nodes[cust_node][1])**2)))\n",
    "        cost_edges[tech_node].append(math.ceil(math.sqrt((customer_nodes[cust_node][0]-technician_nodes[tech_node][0])**2+(customer_nodes[cust_node][1]-technician_nodes[tech_node][1])**2)))\n",
    "        count_1 += 2\n",
    "    count_0 +=1"
   ]
  },
  {
   "cell_type": "code",
   "execution_count": 8,
   "id": "adolescent-malawi",
   "metadata": {},
   "outputs": [
    {
     "data": {
      "text/plain": [
       "42"
      ]
     },
     "execution_count": 8,
     "metadata": {},
     "output_type": "execute_result"
    }
   ],
   "source": [
    "cost_edges[edges_index[(0, 1)][0]][edges_index[(0, 1)][1]]"
   ]
  },
  {
   "cell_type": "code",
   "execution_count": 9,
   "id": "empty-cholesterol",
   "metadata": {},
   "outputs": [
    {
     "data": {
      "text/plain": [
       "[[42, 61, 49, 32, 61, 18, 18],\n",
       " [42, 31, 14, 37, 59, 32, 32],\n",
       " [61, 31, 18, 37, 41, 58, 58],\n",
       " [49, 14, 18, 34, 50, 43, 43],\n",
       " [32, 37, 37, 34, 30, 40, 40],\n",
       " [61, 59, 41, 50, 30, 70, 70],\n",
       " [18, 32, 58, 43, 40, 70, 0],\n",
       " [18, 32, 58, 43, 40, 70, 0],\n",
       " [0, 0, 18, 18, 41, 41, 58, 58, 58, 58],\n",
       " [12, 12, 47, 47, 70, 70, 32, 32],\n",
       " [40, 40],\n",
       " [51, 51, 54, 54, 25, 25, 50, 50, 35, 35, 35, 35],\n",
       " [42, 42, 61, 61, 49, 49, 32, 32, 61, 61, 18, 18, 18, 18]]"
      ]
     },
     "execution_count": 9,
     "metadata": {},
     "output_type": "execute_result"
    }
   ],
   "source": [
    "cost_edges"
   ]
  },
  {
   "cell_type": "code",
   "execution_count": 10,
   "id": "adverse-license",
   "metadata": {},
   "outputs": [],
   "source": [
    "# # Alternative to test the consecutive working days constraint\n",
    "# #nodes: dictionary of x and y coordinates\n",
    "# depot_node = {0:(10,50)}\n",
    "# customer_nodes = {1:(20, 10),2:(50, 5),3:(33, 7),4:(40, 40),5:(70,40),6:(1, 35),7:(1, 35),\n",
    "#                   8:(20, 10),9:(50, 5),10:(33, 7),11:(40, 40),12:(70,40),13:(1, 35),14:(1, 35),15:(50,60)}   #\\mathcal{C}\n",
    "# technician_nodes = {16:(50,5),17:(10,5)}                       #\\mathcal{H}\n",
    "# nodes = {**depot_node,**customer_nodes,**technician_nodes}                                   #N\n",
    "# x_nodes = {**depot_node,**customer_nodes}                                                    #N_x\n",
    "# y_nodes = {**customer_nodes,**technician_nodes}                                              #N_y\n",
    "# number_of_nodes = len(nodes)\n",
    "# #edges and cost: every node is connected and the graph is directed\n",
    "# count_0 = 0\n",
    "# count_1 = 0\n",
    "# # we first want the edges that connect the depot to each customer and each customer to each customer, the graph is directed\n",
    "# edges_index = {}                                                                            #E\n",
    "# cost_edges = [[] for i in nodes]\n",
    "# for i in x_nodes:\n",
    "#     count_1 = 0\n",
    "#     for j in x_nodes:\n",
    "#         if i!=j:\n",
    "#             edges_index[(i,j)] = (count_0,count_1)\n",
    "#             cost_edges[i].append(math.ceil(math.sqrt((x_nodes[i][0] - x_nodes[j][0])**2+(x_nodes[i][1]-x_nodes[j][1])**2)))\n",
    "#             count_1 +=1\n",
    "#     count_0 +=1\n",
    "# # # we now want to connect the technician home locations to each node\n",
    "# for tech_node in technician_nodes:\n",
    "#     count_1 = 0\n",
    "#     for cust_node in customer_nodes:\n",
    "#         edges_index[(tech_node,cust_node)] = (count_0,count_1)\n",
    "#         edges_index[(cust_node,tech_node)] = (count_0,count_1+1)\n",
    "#         cost_edges[tech_node].append(math.ceil(math.sqrt((technician_nodes[tech_node][0]-customer_nodes[cust_node][0])**2+(technician_nodes[tech_node][1]-customer_nodes[cust_node][1])**2)))\n",
    "#         cost_edges[tech_node].append(math.ceil(math.sqrt((customer_nodes[cust_node][0]-technician_nodes[tech_node][0])**2+(customer_nodes[cust_node][1]-technician_nodes[tech_node][1])**2)))\n",
    "#         count_1 += 2\n",
    "#     count_0 +=1"
   ]
  },
  {
   "cell_type": "code",
   "execution_count": 11,
   "id": "varying-astronomy",
   "metadata": {},
   "outputs": [
    {
     "data": {
      "image/png": "[encoded data removed]",
      "text/plain": [
       "<Figure size 432x288 with 1 Axes>"
      ]
     },
     "metadata": {},
     "output_type": "display_data"
    }
   ],
   "source": [
    "#create and plot the graph with networkx\n",
    "G_cust = nx.DiGraph()\n",
    "G_tech = nx.DiGraph()\n",
    "G_depot = nx.DiGraph()\n",
    "\n",
    "G_cust.add_nodes_from(customer_nodes)\n",
    "G_tech.add_nodes_from(technician_nodes)\n",
    "G_depot.add_nodes_from(depot_node)\n",
    "\n",
    "pos = {}\n",
    "for node in G_cust.nodes:\n",
    "    pos[node] = nodes[node]\n",
    "for node in G_tech.nodes:\n",
    "    pos[node] = nodes[node]\n",
    "for node in G_depot.nodes:\n",
    "    pos[node] = nodes[node]\n",
    "    \n",
    "plt.figure(figsize=[6,4])\n",
    "nx.draw(G_cust,pos=pos, node_size=50, with_labels=True, font_weight='bold',node_color=[\"blue\" for c in customers])\n",
    "nx.draw(G_tech,pos=pos, node_size=50, with_labels=True, font_weight='bold',node_color=[\"lightgreen\" for tech in technicians])\n",
    "nx.draw(G_depot,pos=pos,node_size=50, with_labels=True, font_weight='bold',node_color=['red'])\n",
    "plt.show()"
   ]
  },
  {
   "cell_type": "code",
   "execution_count": 12,
   "id": "consolidated-colony",
   "metadata": {},
   "outputs": [
    {
     "data": {
      "image/png": "[encoded data removed]",
      "text/plain": [
       "<Figure size 432x288 with 1 Axes>"
      ]
     },
     "metadata": {},
     "output_type": "display_data"
    }
   ],
   "source": [
    "#with edges\n",
    "G = nx.DiGraph()\n",
    "for k,v in edges_index.items():\n",
    "    G.add_edge(*k)\n",
    "    \n",
    "plt.figure(figsize=[6,4])\n",
    "nx.draw(G,pos=pos, node_size=10)\n",
    "plt.show()"
   ]
  },
  {
   "cell_type": "markdown",
   "id": "forty-knitting",
   "metadata": {},
   "source": [
    "## Data checks"
   ]
  },
  {
   "cell_type": "code",
   "execution_count": 13,
   "id": "diverse-access",
   "metadata": {},
   "outputs": [
    {
     "data": {
      "text/plain": [
       "[[42, 61, 49, 32, 61, 18, 18],\n",
       " [42, 31, 14, 37, 59, 32, 32],\n",
       " [61, 31, 18, 37, 41, 58, 58],\n",
       " [49, 14, 18, 34, 50, 43, 43],\n",
       " [32, 37, 37, 34, 30, 40, 40],\n",
       " [61, 59, 41, 50, 30, 70, 70],\n",
       " [18, 32, 58, 43, 40, 70, 0],\n",
       " [18, 32, 58, 43, 40, 70, 0],\n",
       " [0, 0, 18, 18, 41, 41, 58, 58, 58, 58],\n",
       " [12, 12, 47, 47, 70, 70, 32, 32],\n",
       " [40, 40],\n",
       " [51, 51, 54, 54, 25, 25, 50, 50, 35, 35, 35, 35],\n",
       " [42, 42, 61, 61, 49, 49, 32, 32, 61, 61, 18, 18, 18, 18]]"
      ]
     },
     "execution_count": 13,
     "metadata": {},
     "output_type": "execute_result"
    }
   ],
   "source": [
    "cost_edges"
   ]
  },
  {
   "cell_type": "code",
   "execution_count": 14,
   "id": "embedded-detective",
   "metadata": {},
   "outputs": [],
   "source": [
    "if not len(technicians) == len(technician_nodes) == len(technician_max_visits) == len(technician_max_distance) == len(technician_skill_set):\n",
    "    logging.error(\"ERROR: the technician data is not consistent\")\n",
    "\n",
    "if not len(customer_machine_types) == len(customer_order_size) == len(start_delivery_window) == len(end_delivery_window) ==len(customer_nodes) == len(customers):\n",
    "    logging.error(\"ERROR: the customer data is not consistent\")\n",
    "\n",
    "if not len(machines) == len(machine_size) == len(machine_penalty):\n",
    "    logging.error(\"ERROR: the machine data is not consistent\")\n",
    "\n",
    "for i in range(len(customer_nodes)):\n",
    "    if start_delivery_window[i] < 0:\n",
    "        logging.error(\"ERROR: the start of delivery window is smaller than 0\")\n",
    "    if start_delivery_window[i] >= end_delivery_window[i]:\n",
    "        logging.error(\"ERROR: the start of delivery window is larger or equal than the end\")\n",
    "    if end_delivery_window[i] == DAYS-1:\n",
    "        end_delivery_window[i] = end_delivery_window[i]-1 #one day is needed to install within horizon so might as well shift it\n",
    "    if end_delivery_window[i] > DAYS-1:\n",
    "        logging.error(\"ERROR: the end of delivery window is outside horizon\")\n",
    "\n",
    "for i in range(len(customer_nodes)):\n",
    "    if 2*cost_edges[0][i]> TRUCK_MAX_DISTANCE:\n",
    "        logging.error(\"ERROR: trucks can't reach customer {0}\".format(i))\n",
    "\n",
    "for i, machine_type in enumerate(customer_machine_types):\n",
    "    if machine_size[machine_type] * customer_order_size[i] > TRUCK_CAPACITY:\n",
    "        logging.error(\"ERROR: customer order is to large for truck capacity\")         \n",
    "\n",
    "tech_dist_check = [0 for i in customers]\n",
    "for i in customers:\n",
    "    MachineType = customer_machine_types[i]\n",
    "    for tech in technicians:\n",
    "        if technician_skill_set[tech][MachineType] == 1:\n",
    "            edge_index = edges_index[(tech+len(customers)+1,i+1)]\n",
    "            if 2*cost_edges[edge_index[0]][edge_index[1]] < technician_max_distance[tech]:\n",
    "                tech_dist_check[i] = 1\n",
    "if min(tech_dist_check) == 0:\n",
    "    logging.error(\"ERROR: customer location is located too far from technicians\")  "
   ]
  },
  {
   "cell_type": "markdown",
   "id": "lined-apollo",
   "metadata": {},
   "source": [
    "## Decision variables"
   ]
  },
  {
   "cell_type": "markdown",
   "id": "metallic-button",
   "metadata": {},
   "source": [
    "### We have the following decision variables:\n",
    "### $x_{tkij} \\in \\{0,1\\} \\text{: indicates if on day $t$, truck $k$, drives from node $i$ to $j$}$\n",
    "### $y_{thij} \\in \\{0,1\\} \\text{: indicates if on day $t$, technician $h$, drives from node $i$ to $j$}$\n",
    "### $u_k \\in {\\rm I\\!R} \\text{: indicates if truck $k$ is used in the problem}$\n",
    "### $v_{tk} \\in {\\rm I\\!R} \\text{: indicates if on day $t$ truck $k$ is used}$\n",
    "### $p_h \\in {\\rm I\\!R} \\text{: indicates if technician $h$ is used in the problem}$\n",
    "### $q_{th} \\in {\\rm I\\!R} \\text{:  indicates if on day $t$ technician $h$ is used}$\n",
    "### $z_{tkj} \\in {\\rm I\\!R} \\text{: cumulative load on day $t$, in truck $k$, when delivering to $j \\in \\mathcal{C}$}$\n",
    "### $\\ell_{thj} \\in {\\rm I\\!R} \\text{: decision variable for cumulative load on day $t$, for technician $h$, installing at $j \\in \\mathcal{C}_h$}$\n",
    "### $w_{th} \\in \\{0,1\\} \\text{: indicates if on day $t$ technician $h$ has worked for 5 days in a row}$\n",
    "### where\n",
    "### $ u_k \\geq 0 \\hspace{0.3cm} \\forall \\hspace{0.1cm} k \\in K,                                                 $\n",
    "### $ v_{tk} \\geq 0 \\hspace{0.3cm} \\forall \\hspace{0.1cm} t \\in \\{1,\\ldots,T\\}, k \\in K,                        $\n",
    "### $ p_h \\geq 0 \\hspace{0.3cm} \\forall \\hspace{0.1cm} h \\in H,                                                $\n",
    "### $ q_{th} \\geq 0 \\hspace{0.3cm} \\forall \\hspace{0.1cm} t \\in \\{1,\\ldots,T\\}, h \\in H, $\n",
    "### $ z_{tkj} \\geq 0 \\hspace{0.3cm} \\forall \\hspace{0.1cm} t \\in \\{1,\\ldots,T\\}, k \\in K, j \\in \\mathcal{C} $\n",
    "### $ \\ell_{tkj} \\geq 0 \\hspace{0.3cm} \\forall \\hspace{0.1cm} t \\in \\{1,\\ldots,T\\}, h \\in H, j \\in \\mathcal{C} $"
   ]
  },
  {
   "cell_type": "code",
   "execution_count": null,
   "id": "special-click",
   "metadata": {},
   "outputs": [],
   "source": [
    "type(opt_model)"
   ]
  },
  {
   "cell_type": "code",
   "execution_count": null,
   "id": "victorian-question",
   "metadata": {},
   "outputs": [],
   "source": [
    "# Binary\n",
    "#no connection between technician homes\n",
    "#delivery needs to be fullfilled one day before end of the horizon\n",
    "x = [[[[opt_model.add_var(name=\"x_{0}_{1}_{2}_{3}\".format(t,k,i,j),var_type=mip.BINARY) for j in x_nodes if j != i] for i in x_nodes] for k in trucks] for t in range(DAYS-1)]\n",
    "\n",
    "#installation can only start one day later than delivery, also no connection between technician homes and depot\n",
    "# the technicians are disconnected from the customer nodes if their skillset does not allow them to install there\n",
    "y = [[[]for h in technicians] for t in range(1,DAYS)]\n",
    "for t in range(DAYS-1):\n",
    "    for h in technicians:\n",
    "        count_h = 0\n",
    "        G_tech_h = tech_graph(h,technician_skill_set,technician_nodes,customer_nodes,customer_machine_types)\n",
    "        for i in G_tech_h.nodes:\n",
    "            y[t][h].append([])\n",
    "            for j in G_tech_h.nodes:\n",
    "                if i != j:\n",
    "                    y[t][h][count_h].append(opt_model.add_var(name=\"y_{0}_{1}_{2}_{3}\".format(t+1,h,i,j),var_type=mip.BINARY))\n",
    "            count_h +=1\n",
    "            \n",
    "#technician can only have worked for the past 5 consecutive days on the 7th day in the horizon\n",
    "if DAYS > 6:\n",
    "    w = [[opt_model.add_var(name=\"w_{0}_{1}\".format(t,h),var_type=mip.BINARY) for h in technicians] for t in range(6,DAYS)]\n",
    "\n",
    "# # Continuous\n",
    "u = [opt_model.add_var(name=\"u_{0}\".format(k),lb=0.0) for k in trucks]\n",
    "\n",
    "v = [[opt_model.add_var(name=\"v_{0}_{1}\".format(t,k),lb=0.0) for k in trucks] for t in range(DAYS-1)]\n",
    "\n",
    "p = [opt_model.add_var(name=\"p_{0}\".format(h),lb=0.0) for h in technicians]\n",
    "\n",
    "q = [[opt_model.add_var(name=\"q_{0}_{1}\".format(t,h),lb=0.0) for h in technicians] for t in range(1,DAYS)]\n",
    "\n",
    "#delivery needs to be fullfilled one day before end of the horizon\n",
    "z = [[[opt_model.add_var(name=\"z_{0}_{1}_{2}\".format(t,k,j),lb=0.0) for j in customer_nodes] for k in trucks] for t in range(DAYS-1)]\n",
    "\n",
    "#installation can only start one day later than delivery\n",
    "#the load only needs to be calculated for customer nodes that the technician can install\n",
    "l = [[[]for h in technicians] for t in range(1,DAYS)]\n",
    "for t in range(DAYS-1):\n",
    "    for h in technicians:\n",
    "        G_tech_h = tech_graph(h,technician_skill_set,technician_nodes,customer_nodes,customer_machine_types)\n",
    "        for j in G_tech_h.nodes:\n",
    "            if j != len(nodes) - len(technician_nodes) + h: #exclude the technician home\n",
    "                l[t][h].append(opt_model.add_var(name=\"l_{0}_{1}_{2}\".format(t+1,h,j),lb=0.0)) "
   ]
  },
  {
   "cell_type": "markdown",
   "id": "secondary-sodium",
   "metadata": {},
   "source": [
    "## Objective function"
   ]
  },
  {
   "cell_type": "markdown",
   "id": "medium-cutting",
   "metadata": {},
   "source": [
    "## $\\min \\beta \\sum\\limits_{t=0}^{T-1}\\sum\\limits_{k \\in K}\\sum_{(i,j) \\in E} x_{tkij}c_{ij} + \\gamma \\sum\\limits_{k \\in K} u_k + \\alpha \\sum\\limits_{t=0}^{T-1}\\sum\\limits_{k \\in K}v_{tk} + \\phi \\sum\\limits_{t=1}^{T}\\sum\\limits_{h \\in H}\\sum\\limits_{(i,j) \\in E} y_{thij}c_{ij} + \\mu \\sum\\limits_{h \\in H} p_{h} + \\lambda \\sum\\limits_{t=1}^{T}\\sum\\limits_{h \\in H} q_{th} + \\sum\\limits_{j \\in \\mathcal{C}} \\pi_{m_j} d_j \\left(\\left(\\sum\\limits_{t=0}^{T-1}\\sum\\limits_{i \\in N} \\left( \\sum\\limits_{h \\in H} (t+1) y_{t+1hij} - \\sum\\limits_{k \\in K} t x_{tkij}\\right) \\right) - 1\\right)$"
   ]
  },
  {
   "cell_type": "code",
   "execution_count": null,
   "id": "material-blues",
   "metadata": {},
   "outputs": [],
   "source": [
    "def calc_edge_cost(var,t,k_h,i,j,edges_index,cost_edges):\n",
    "    \"\"\"\n",
    "    Purpose,\n",
    "        Calculate the cost to travel an edge given the variable (x or y) and it's index (t,k or h,i,j)\n",
    "    Input,\n",
    "        var, mip.Var: the variable we are looking at (x or y)\n",
    "        t, int: the index of the day\n",
    "        k_h, int, the index of the truck (k) or the technician (h)\n",
    "        i, int: the index of the node we are leaving\n",
    "        j, int: the index of the node we are entering\n",
    "        edges_index, dict: indicating the index in cost_edges (values) for each edge (keys)\n",
    "        cost_edges, list: indicating the cost for each edge\n",
    "    Output,\n",
    "        edge_cost, cost to travel over this edge\n",
    "    \"\"\"\n",
    "    var_name = var[t][k_h][i][j].name\n",
    "    var_name_split = var_name.split('_')\n",
    "    outgoing_node =  int(var_name_split[3])\n",
    "    incoming_node = int(var_name_split[4])\n",
    "    edge_index = edges_index[(outgoing_node,incoming_node)]\n",
    "    edge_cost = cost_edges[edge_index[0]][edge_index[1]]\n",
    "    \n",
    "    return edge_cost"
   ]
  },
  {
   "cell_type": "code",
   "execution_count": null,
   "id": "altered-contractor",
   "metadata": {},
   "outputs": [],
   "source": [
    "c_truck_distance = TRUCK_DISTANCE_COST * (mip.xsum(x[t][k][i][j] * calc_edge_cost(x,t,k,i,j,edges_index,cost_edges) for t in range(DAYS-1) \n",
    "                                for k in trucks for i in range(len(x[t][k])) for j in range(len(x[t][k][i]))))\n",
    "#print(c_truck_distance)"
   ]
  },
  {
   "cell_type": "code",
   "execution_count": null,
   "id": "therapeutic-hungarian",
   "metadata": {},
   "outputs": [],
   "source": [
    "c_truck = TRUCK_COST * mip.xsum(u[k] for k in trucks)\n",
    "# print(c_truck)"
   ]
  },
  {
   "cell_type": "code",
   "execution_count": null,
   "id": "false-italic",
   "metadata": {},
   "outputs": [],
   "source": [
    "c_truck_day = TRUCK_DAY_COST * mip.xsum(v[t][k] for t in range(DAYS-1) for k in trucks) \n",
    "# print(c_truck_day)"
   ]
  },
  {
   "cell_type": "code",
   "execution_count": null,
   "id": "stupid-client",
   "metadata": {},
   "outputs": [],
   "source": [
    "c_tech_distance = TECHNICIAN_DISTANCE_COST * mip.xsum(y[t][h][i][j] * calc_edge_cost(y,t,h,i,j,edges_index,cost_edges)\n",
    "                                                      for t in range(DAYS-1) for h in technicians for i in range(len(y[t][h]))\n",
    "                                                      for j in range(len(y[t][h][i]))) \n",
    "# print(c_tech_distance)"
   ]
  },
  {
   "cell_type": "code",
   "execution_count": null,
   "id": "virgin-makeup",
   "metadata": {},
   "outputs": [],
   "source": [
    "c_tech = TECHNICIAN_COST * mip.xsum(p[h] for h in technicians) \n",
    "# print(c_tech)"
   ]
  },
  {
   "cell_type": "code",
   "execution_count": null,
   "id": "square-communications",
   "metadata": {},
   "outputs": [],
   "source": [
    "c_tech_day = TECHNICIAN_DAY_COST * mip.xsum(q[t][h] for t in range(0,DAYS-1) for h in technicians)\n",
    "# print(c_tech_day)"
   ]
  },
  {
   "cell_type": "code",
   "execution_count": null,
   "id": "emotional-destruction",
   "metadata": {},
   "outputs": [],
   "source": [
    "# # for the penalization we need to find all nodes that go into the customer node\n",
    "# selected_customer = 5\n",
    "# for i in x_nodes:\n",
    "#     if i > selected_customer:\n",
    "#         print(x[0][0][i][selected_customer].name)\n",
    "#     elif i < selected_customer:\n",
    "#         print(x[0][0][i][selected_customer-1].name)"
   ]
  },
  {
   "cell_type": "code",
   "execution_count": null,
   "id": "about-guatemala",
   "metadata": {},
   "outputs": [],
   "source": [
    "# #delivery day for a customer is t multiplied by x_{t}_{k}_{i}_{selected_customer} for all i that are not the selected_customer\n",
    "# deliv_days_sel_cust = (mip.xsum(t*x[t][k][i][selected_customer] for t in range(DAYS-1) for k in trucks for i in x_nodes if i > selected_customer)\n",
    "#                        + mip.xsum(t*x[t][k][i][selected_customer-1] for t in range(DAYS-1) for k in trucks for i in x_nodes if i < selected_customer))\n",
    "# print(deliv_days_sel_cust)"
   ]
  },
  {
   "cell_type": "code",
   "execution_count": null,
   "id": "fallen-marshall",
   "metadata": {},
   "outputs": [],
   "source": [
    "# for j in customer_nodes:\n",
    "#     print(\"customer: \",j)\n",
    "#     g_tech = tech_graph(0,technician_skill_set,technician_nodes,customer_nodes,customer_machine_types)\n",
    "#     for tech_node in range(len(g_tech.nodes)):\n",
    "#         for i in range(len(y[0][0][tech_node])):\n",
    "#             if int(y[0][0][tech_node][i].name.split('_')[4]) == j:\n",
    "#                 print(\"The following variable must be added\",y[0][0][tech_node][i].name)"
   ]
  },
  {
   "cell_type": "code",
   "execution_count": null,
   "id": "bronze-russia",
   "metadata": {},
   "outputs": [],
   "source": [
    "def tech_cust_variables(y,h,selected_customer,t,technician_skill_set,technician_nodes,customer_nodes,customer_machine_types):\n",
    "    \"\"\"\n",
    "    Purpose\n",
    "        Create a linear expression of all the nodes that go into a selected customer on a day for a technician\n",
    "    Input\n",
    "        y, mip.Var: decision variable that indicates if on day t, technician h, drives from node i to j     \n",
    "        h, int: technician under consideration\n",
    "        selected_customer, int: customer node under consideration\n",
    "        t, int: the index of the day\n",
    "        technician_skill_set, list: the skillset of each technician\n",
    "        technician_nodes, dict: nodes of technicians\n",
    "        customer_nodes, dict: nodes of customers\n",
    "        customer_machine_types, list: machine type of each customer order/request        \n",
    "    Output\n",
    "        tech_cust_expr, mip.entities.LinExpr: linear expression that sums all nodes that go into a customer node\n",
    "    \"\"\"\n",
    "    g_tech = tech_graph(h,technician_skill_set,technician_nodes,customer_nodes,customer_machine_types)\n",
    "    if selected_customer in g_tech.nodes:\n",
    "        #print(h,selected_customer,t,g_tech.nodes)\n",
    "        tech_cust_expr = mip.xsum(y[t][h][tech_node][i] for tech_node in range(len(g_tech.nodes)) for i in range(len(\n",
    "                            y[t][h][tech_node])) if int(y[t][h][tech_node][i].name.split('_')[4]) == selected_customer)\n",
    "    else:\n",
    "        tech_cust_expr = mip.xsum(i for i in range(2) if 1 == 0) #return empty sum\n",
    "    return tech_cust_expr\n",
    "\n",
    "# print(tech_cust_variables(y,0,3,0,technician_skill_set,technician_nodes,customer_nodes,customer_machine_types))\n",
    "# print(tech_cust_variables(y,3,5,1,technician_skill_set,technician_nodes,customer_nodes,customer_machine_types))\n",
    "# print(tech_cust_variables(y,1,1,1,technician_skill_set,technician_nodes,customer_nodes,customer_machine_types))"
   ]
  },
  {
   "cell_type": "code",
   "execution_count": null,
   "id": "frequent-theology",
   "metadata": {},
   "outputs": [],
   "source": [
    "# #installation day for a customer is t multiplied by y_{t}_{k}_{i}_{selected_customer} for all i that are not the selected_customer\n",
    "# install_days_sel_cust = (mip.xsum((t+1)*tech_cust_variables(y,h,selected_customer,t,technician_skill_set,technician_nodes,\n",
    "#                                                       customer_nodes,customer_machine_types) for t in range(DAYS-1) for h in technicians))\n",
    "# print(install_days_sel_cust)"
   ]
  },
  {
   "cell_type": "code",
   "execution_count": null,
   "id": "choice-deputy",
   "metadata": {},
   "outputs": [],
   "source": [
    "# # the difference between the installation day and delivery day for a customer -1 gives the number of penalized days\n",
    "# penalized_days_sel_cust = (install_days_sel_cust - deliv_days_sel_cust) - 1\n",
    "# print(penalized_days_sel_cust)"
   ]
  },
  {
   "cell_type": "code",
   "execution_count": null,
   "id": "departmental-emphasis",
   "metadata": {},
   "outputs": [],
   "source": [
    "c_penalty = mip.xsum(machine_penalty[customer_machine_types[j-1]] * customer_order_size[j-1] * \n",
    "         ((mip.xsum((t+1)*tech_cust_variables(y,h,j,t,technician_skill_set,technician_nodes,\n",
    "                                                      customer_nodes,customer_machine_types) for t in range(DAYS-1) for h in technicians))\n",
    "         -(mip.xsum(t*x[t][k][i][j] for t in range(DAYS-1) for k in trucks for i in x_nodes if i > j)\n",
    "         + mip.xsum(t*x[t][k][i][j-1] for t in range(DAYS-1) for k in trucks for i in x_nodes if i < j))\n",
    "         - 1) for j in customer_nodes)\n",
    "# print(c_penalty)"
   ]
  },
  {
   "cell_type": "code",
   "execution_count": null,
   "id": "curious-german",
   "metadata": {},
   "outputs": [],
   "source": [
    "type(c_penalty)"
   ]
  },
  {
   "cell_type": "code",
   "execution_count": null,
   "id": "fitting-charter",
   "metadata": {},
   "outputs": [],
   "source": [
    "objective_func = c_truck_distance + c_truck + c_truck_day + c_tech_distance + c_tech + c_tech_day + c_penalty\n",
    "opt_model.objective = mip.minimize(objective_func)"
   ]
  },
  {
   "cell_type": "markdown",
   "id": "powerful-repository",
   "metadata": {},
   "source": [
    "## Constraints"
   ]
  },
  {
   "cell_type": "markdown",
   "id": "killing-peeing",
   "metadata": {},
   "source": [
    "### Decision variable used for calculation"
   ]
  },
  {
   "cell_type": "markdown",
   "id": "lined-compiler",
   "metadata": {},
   "source": [
    "### $u_k - x_{tkij} \\geq 0 \\hspace{0.3cm} \\forall \\hspace{0.1cm} t \\in \\{0,\\ldots,T-1\\}, k \\in K, (i,j) \\in E$"
   ]
  },
  {
   "cell_type": "code",
   "execution_count": null,
   "id": "friendly-publisher",
   "metadata": {},
   "outputs": [],
   "source": [
    "for t in range(DAYS-1):\n",
    "    for k in trucks:\n",
    "        for i in range(len(x[t][k])):\n",
    "            for j in range(len(x[t][k][i])):\n",
    "                opt_model += u[k] - x[t][k][i][j] >= 0"
   ]
  },
  {
   "cell_type": "markdown",
   "id": "legendary-calculation",
   "metadata": {},
   "source": [
    "### $v_{tk} - x_{tkij} \\geq 0 \\hspace{0.3cm} \\forall \\hspace{0.1cm} t \\in \\{0,\\ldots,T-1\\}, k \\in K, (i,j) \\in E$"
   ]
  },
  {
   "cell_type": "code",
   "execution_count": null,
   "id": "distributed-title",
   "metadata": {},
   "outputs": [],
   "source": [
    "for t in range(DAYS-1):\n",
    "    for k in trucks:\n",
    "        for i in range(len(x[t][k])):\n",
    "            for j in range(len(x[t][k][i])):\n",
    "                opt_model += v[t][k] - x[t][k][i][j] >= 0"
   ]
  },
  {
   "cell_type": "markdown",
   "id": "threatened-modem",
   "metadata": {},
   "source": [
    "### $p_h - y_{thij} \\geq 0 \\hspace{0.3cm} \\forall \\hspace{0.1cm} t \\in \\{1,\\ldots,T\\}, h \\in H, (i,j) \\in E$"
   ]
  },
  {
   "cell_type": "code",
   "execution_count": null,
   "id": "classical-thanksgiving",
   "metadata": {},
   "outputs": [],
   "source": [
    "for t in range(DAYS-1):\n",
    "    for h in technicians:\n",
    "        for i in range(len(y[t][h])):\n",
    "            for j in range(len(y[t][h][i])):\n",
    "                opt_model += p[h] - y[t][h][i][j] >= 0"
   ]
  },
  {
   "cell_type": "markdown",
   "id": "spatial-turkey",
   "metadata": {},
   "source": [
    "### $ q_{th} - y_{thij} \\geq 0 \\hspace{0.3cm} \\forall \\hspace{0.1cm} t \\in \\{1,\\ldots,T\\}, h \\in H, (i,j) \\in E$"
   ]
  },
  {
   "cell_type": "code",
   "execution_count": null,
   "id": "light-roman",
   "metadata": {},
   "outputs": [],
   "source": [
    "for t in range(DAYS-1):\n",
    "    for h in technicians:\n",
    "        for i in range(len(y[t][h])):\n",
    "            for j in range(len(y[t][h][i])):\n",
    "                opt_model += q[t][h] - y[t][h][i][j] >= 0"
   ]
  },
  {
   "cell_type": "markdown",
   "id": "driving-daniel",
   "metadata": {},
   "source": [
    "### Truck distance \n",
    "### $\\sum\\limits_{(i,j) \\in E_x} x_{tkij} c_{ij} \\leq \\delta \\hspace{0.5cm} \\forall \\hspace{0.1cm} t \\in \\{0,\\ldots,T-1\\}, k \\in K$"
   ]
  },
  {
   "cell_type": "code",
   "execution_count": null,
   "id": "classified-quarter",
   "metadata": {},
   "outputs": [],
   "source": [
    "for t in range(DAYS-1):\n",
    "    for k in trucks:\n",
    "         opt_model += (mip.xsum(x[t][k][i][j] * calc_edge_cost(x,t,k,i,j,edges_index,cost_edges) \n",
    "                        for i in range(len(x[t][k])) for j in range(len(x[t][k][i])))) <= TRUCK_MAX_DISTANCE, \"truck_dist\""
   ]
  },
  {
   "cell_type": "markdown",
   "id": "defensive-triangle",
   "metadata": {},
   "source": [
    "### Technician distance\n",
    "### $\\sum\\limits_{(i,j) \\in E_y} y_{thij} c_{ij} \\leq \\omega_{h} \\hspace{0.5cm} \\forall \\hspace{0.1cm} t \\in \\{1,\\ldots,T\\}, h \\in H$"
   ]
  },
  {
   "cell_type": "code",
   "execution_count": null,
   "id": "optical-oakland",
   "metadata": {},
   "outputs": [],
   "source": [
    "for t in range(DAYS-1):\n",
    "    for h in technicians:\n",
    "         opt_model += (mip.xsum(y[t][h][i][j] * calc_edge_cost(y,t,h,i,j,edges_index,cost_edges) \n",
    "                        for i in range(len(y[t][h])) for j in range(len(y[t][h][i])))) <= technician_max_distance[h], \"tech_dist\""
   ]
  },
  {
   "cell_type": "markdown",
   "id": "banner-generic",
   "metadata": {},
   "source": [
    "### Technician visits\n",
    "### $\\sum\\limits_{i \\in N_y}\\sum\\limits_{j \\in \\mathcal{C}} y_{thij} \\leq r_h \\hspace{0.5cm} \\forall \\hspace{0.1cm} t \\in \\{1,\\ldots,T\\}, h \\in H, (i \\neq j) $"
   ]
  },
  {
   "cell_type": "code",
   "execution_count": null,
   "id": "iraqi-destruction",
   "metadata": {},
   "outputs": [],
   "source": [
    "# for i in range(len(y[0][0])):\n",
    "#     for j in range(len(y[0][0][i])):\n",
    "#         if int(y[0][0][i][j].name.split(\"_\")[4]) in customer_nodes:\n",
    "#             print(y[0][0][i][j])"
   ]
  },
  {
   "cell_type": "code",
   "execution_count": null,
   "id": "civil-savannah",
   "metadata": {},
   "outputs": [],
   "source": [
    "for t in range(DAYS-1):\n",
    "    for h in technicians:\n",
    "        opt_model += (mip.xsum(y[t][h][i][j] for i in range(len(y[t][h])) for j in range(len(y[t][h][i]))\n",
    "                if int(y[t][h][i][j].name.split(\"_\")[4]) in customer_nodes)) <=technician_max_visits[h], \"tech_visit\""
   ]
  },
  {
   "cell_type": "markdown",
   "id": "gentle-boundary",
   "metadata": {},
   "source": [
    "### Customer delivery (trucks)\n",
    "### $\\sum\\limits_{t=0}^{T-1}\\sum\\limits_{k \\in K}\\sum\\limits_{i \\in N_x, i \\neq j} x_{tkij} = 1 \\hspace{0.5cm} \\forall \\hspace{0.1cm} j \\in \\mathcal{C} $"
   ]
  },
  {
   "cell_type": "code",
   "execution_count": null,
   "id": "functional-florist",
   "metadata": {},
   "outputs": [],
   "source": [
    "for j in customer_nodes:\n",
    "    opt_model += (mip.xsum(x[t][k][i][j-1] for t in range(DAYS-1) for k in trucks for i in x_nodes if i<j) + \n",
    "    mip.xsum(x[t][k][i][j] for t in range(DAYS-1) for k in trucks for i in x_nodes if i>j)) == 1 , \"cust_delivery\""
   ]
  },
  {
   "cell_type": "markdown",
   "id": "behavioral-international",
   "metadata": {},
   "source": [
    "### Customer delivery (technicians)\n",
    "### $ \\sum\\limits_{t=1}^{T}\\sum\\limits_{h \\in H}\\sum\\limits_{i \\in N_y, i \\neq j} y_{thij} = 1 \\hspace{0.5cm} \\forall \\hspace{0.1cm} j \\in \\mathcal{C}$"
   ]
  },
  {
   "cell_type": "code",
   "execution_count": null,
   "id": "powerful-dealer",
   "metadata": {},
   "outputs": [],
   "source": [
    "for j in customer_nodes:\n",
    "    opt_model += mip.xsum(tech_cust_variables(y,h,j,t,technician_skill_set,technician_nodes,customer_nodes,customer_machine_types) \n",
    "                   for h in technicians for t in range(DAYS-1)) == 1, \"tech_delivery\""
   ]
  },
  {
   "cell_type": "markdown",
   "id": "fluid-health",
   "metadata": {},
   "source": [
    "### Node enter and leave\n",
    "### $\\sum\\limits_{i \\in N_x, i \\neq n} x_{tkin} - \\sum\\limits_{j \\in N_x, j \\neq n} x_{tknj} = 0 \\hspace{0.5cm} \\forall \\hspace{0.1cm} t \\in \\{0,\\ldots,T-1\\}, k \\in K, n \\in N_x$"
   ]
  },
  {
   "cell_type": "code",
   "execution_count": null,
   "id": "falling-advice",
   "metadata": {},
   "outputs": [],
   "source": [
    "for t in range(DAYS-1):\n",
    "    for k in trucks:\n",
    "        for n in x_nodes:\n",
    "            opt_model += ((mip.xsum(x[t][k][i][n-1] for i in x_nodes if i<n) + mip.xsum(x[t][k][i][n] for i in x_nodes if i>n)) - \n",
    "            (mip.xsum(x[t][k][n][j-1]  for j in x_nodes  if n<j) + mip.xsum(x[t][k][n][j]  for j in x_nodes  if n>j))) == 0, 'node_ent_leave_x'"
   ]
  },
  {
   "cell_type": "markdown",
   "id": "smart-calculation",
   "metadata": {},
   "source": [
    "### Customer enter and leave"
   ]
  },
  {
   "cell_type": "markdown",
   "id": "middle-slave",
   "metadata": {},
   "source": [
    "###  $\\sum_{i \\in N_h,i \\neq n} y_{thin} - \\sum_{j \\in N_h,j \\neq n} y_{thnj} = 0 \\hspace{0.5cm} \\forall \\hspace{0.1cm} t \\in \\{1,\\ldots,T\\}, h \\in H, n \\in \\mathcal{C}$"
   ]
  },
  {
   "cell_type": "code",
   "execution_count": null,
   "id": "proper-handbook",
   "metadata": {},
   "outputs": [],
   "source": [
    "def cust_tech_variables(y,h,selected_customer,t,technician_skill_set,technician_nodes,customer_nodes,customer_machine_types):\n",
    "    \"\"\"\n",
    "    Purpose\n",
    "        Create a linear expression of all the nodes that go out of a selected customer on a day for a technician\n",
    "    Input\n",
    "        y, mip.Var: decision variable that indicates if on day t, technician h, drives from node i to j     \n",
    "        h, int: technician under consideration\n",
    "        selected_customer, int: customer node under consideration\n",
    "        t, int: the index of the day\n",
    "        technician_skill_set, list: the skillset of each technician\n",
    "        technician_nodes, dict: nodes of technicians\n",
    "        customer_nodes, dict: nodes of customers\n",
    "        customer_machine_types, list: machine type of each customer order/request \n",
    "    Output\n",
    "        cust_expr, mip.entities.LinExpr: linear expression that sums all nodes that leave the customer node\n",
    "    \"\"\"\n",
    "    g_tech = tech_graph(h,technician_skill_set,technician_nodes,customer_nodes,customer_machine_types)\n",
    "    if selected_customer in g_tech.nodes:\n",
    "#        print(h,selected_customer,t,g_tech.nodes)\n",
    "        cust_expr = mip.xsum(y[t][h][tech_node][i] for tech_node in range(len(g_tech.nodes)) for i in range(len(\n",
    "                        y[t][h][tech_node])) if int(y[t][h][tech_node][i].name.split('_')[3]) == selected_customer)\n",
    "    else:\n",
    "        cust_expr = mip.xsum(i for i in range(2) if 1 == 0) #return empty sum\n",
    "    return cust_expr\n",
    "\n",
    "# print(cust_tech_variables(y,0,2,0,technician_skill_set,technician_nodes,customer_nodes,customer_machine_types))\n",
    "# print(cust_tech_variables(y,1,2,2,technician_skill_set,technician_nodes,customer_nodes,customer_machine_types))\n",
    "# print(cust_tech_variables(y,4,7,0,technician_skill_set,technician_nodes,customer_nodes,customer_machine_types))"
   ]
  },
  {
   "cell_type": "code",
   "execution_count": null,
   "id": "honey-ecology",
   "metadata": {
    "scrolled": true
   },
   "outputs": [],
   "source": [
    "# print(tech_cust_variables(y,4,2,0,technician_skill_set,technician_nodes,customer_nodes,customer_machine_types)\n",
    "#       - cust_tech_variables(y,4,2,0,technician_skill_set,technician_nodes,customer_nodes,customer_machine_types))"
   ]
  },
  {
   "cell_type": "code",
   "execution_count": null,
   "id": "hired-excuse",
   "metadata": {},
   "outputs": [],
   "source": [
    "for t in range(DAYS-1):\n",
    "    for h in technicians:\n",
    "        for n in customer_nodes:\n",
    "            if n in tech_graph(h,technician_skill_set,technician_nodes,customer_nodes,customer_machine_types).nodes:\n",
    "                opt_model += (tech_cust_variables(y,h,n,t,technician_skill_set,technician_nodes,customer_nodes,customer_machine_types)\n",
    "      - cust_tech_variables(y,h,n,t,technician_skill_set,technician_nodes,customer_nodes,customer_machine_types)) == 0, \"tech_ent_leave\""
   ]
  },
  {
   "cell_type": "markdown",
   "id": "enormous-thousand",
   "metadata": {},
   "source": [
    "### Home leave and enter constraint"
   ]
  },
  {
   "cell_type": "markdown",
   "id": "internal-mailing",
   "metadata": {},
   "source": [
    "### $\\sum_{j \\in N_y} y_{thi_{h}j} - \\sum_{j \\in N_y} y_{thji_{h}} = 0 \\hspace{0.5cm} \\forall \\hspace{0.1cm} t \\in \\{1,\\ldots,T\\}, h \\in H,$"
   ]
  },
  {
   "cell_type": "code",
   "execution_count": null,
   "id": "smooth-width",
   "metadata": {},
   "outputs": [],
   "source": [
    "# for h in technicians:\n",
    "#     print(len(nodes) - len(technician_nodes)+h)"
   ]
  },
  {
   "cell_type": "code",
   "execution_count": null,
   "id": "changing-sociology",
   "metadata": {},
   "outputs": [],
   "source": [
    "# #functions work for technician homes as well actually\n",
    "# print(cust_tech_variables(y,0,8,0,technician_skill_set,technician_nodes,customer_nodes,customer_machine_types) \n",
    "#       - tech_cust_variables(y,0,8,0,technician_skill_set,technician_nodes,customer_nodes,customer_machine_types))"
   ]
  },
  {
   "cell_type": "code",
   "execution_count": null,
   "id": "structural-button",
   "metadata": {},
   "outputs": [],
   "source": [
    "for t in range(DAYS-1):\n",
    "    for h in technicians:\n",
    "        opt_model += (cust_tech_variables(y,h,len(nodes) - len(technician_nodes)+h,t,technician_skill_set,\n",
    "                        technician_nodes,customer_nodes,customer_machine_types) - tech_cust_variables(y,h,len(nodes) - len(technician_nodes)+h,t,\n",
    "                        technician_skill_set,technician_nodes,customer_nodes,customer_machine_types) == 0), \"home_ent_leave\""
   ]
  },
  {
   "cell_type": "markdown",
   "id": "stock-dragon",
   "metadata": {},
   "source": [
    "### Delivery window\n",
    "### $ a_j \\sum_{t=0}^{T-1}\\sum_{k \\in K}\\sum_{i \\in N_x} x_{tkij} - \\sum_{t=0}^{T-1}\\sum_{k \\in K}\\sum_{i \\in N_x} t x_{tkij} \\leq 0 \\hspace{0.5cm} \\forall \\hspace{0.1cm} j \\in \\mathcal{C} $"
   ]
  },
  {
   "cell_type": "code",
   "execution_count": null,
   "id": "structured-bread",
   "metadata": {},
   "outputs": [],
   "source": [
    "for j in customer_nodes:\n",
    "    opt_model += start_delivery_window[j-1] * (mip.xsum(x[t][k][i][j-1] for t in range(DAYS-1) for k in trucks for i in x_nodes if i<j) \n",
    "      + mip.xsum(x[t][k][i][j] for t in range(DAYS-1) for k in trucks for i in x_nodes if i>j)) - (mip.xsum(t*x[t][k][i][j-1] for t in range(DAYS-1) for k in trucks for i in x_nodes if i<j) \n",
    "       + mip.xsum(t*x[t][k][i][j] for t in range(DAYS-1) for k in trucks for i in x_nodes if i>j)) <= 0, \"start_delivery_window\""
   ]
  },
  {
   "cell_type": "markdown",
   "id": "dirty-greeting",
   "metadata": {},
   "source": [
    "### $ \\sum_{t=0}^{T-1}\\sum_{k \\in K}\\sum_{i \\in N_x} t x_{tkij} - b_j \\leq 0 \\hspace{0.5cm} \\forall \\hspace{0.1cm} j \\in \\mathcal{C} $"
   ]
  },
  {
   "cell_type": "code",
   "execution_count": null,
   "id": "hawaiian-classic",
   "metadata": {},
   "outputs": [],
   "source": [
    "for j in customer_nodes:\n",
    "    opt_model += (mip.xsum(t*x[t][k][i][j-1] for t in range(DAYS-1) for k in trucks for i in x_nodes if i<j) \n",
    "      + mip.xsum(t*x[t][k][i][j] for t in range(DAYS-1) for k in trucks for i in x_nodes if i>j)) - end_delivery_window[j-1] <= 0, \"end_delivery_window\""
   ]
  },
  {
   "cell_type": "markdown",
   "id": "intended-cambridge",
   "metadata": {},
   "source": [
    "### $    \\sum_{t=0}^{T-1}\\sum_{k \\in K}\\sum_{i \\in N_x} t x_{tkij} - \\sum_{t=1}^{T}\\sum_{h \\in H}\\sum_{i \\in N_y} t y_{thij} + 1 \\leq 0\\hspace{0.5cm} \\forall \\hspace{0.1cm} j \\in \\mathcal{C}$"
   ]
  },
  {
   "cell_type": "code",
   "execution_count": null,
   "id": "ecological-publisher",
   "metadata": {},
   "outputs": [],
   "source": [
    "for j in customer_nodes:\n",
    "    opt_model += ((mip.xsum(t*x[t][k][i][j-1] for t in range(DAYS-1) for k in trucks for i in x_nodes if i<j) \n",
    "      + mip.xsum(t*x[t][k][i][j] for t in range(DAYS-1) for k in trucks for i in x_nodes if i>j)) - \n",
    "        (mip.xsum((t+1)*tech_cust_variables(y,h,j,t,technician_skill_set,technician_nodes,customer_nodes,customer_machine_types) \n",
    "                            for t in range(DAYS-1) for h in technicians)) + 1) <= 0, \"start_installation_window\""
   ]
  },
  {
   "cell_type": "markdown",
   "id": "metallic-douglas",
   "metadata": {},
   "source": [
    "### $ \\sum_{t=1}^{T}\\sum_{h \\in H}\\sum_{i \\in N} t y_{thij} - T \\leq 0 \\hspace{0.5cm} \\forall \\hspace{0.1cm} j \\in \\mathcal{C}$"
   ]
  },
  {
   "cell_type": "code",
   "execution_count": null,
   "id": "superior-prague",
   "metadata": {},
   "outputs": [],
   "source": [
    "for j in customer_nodes:\n",
    "    opt_model += (mip.xsum((t+1)*tech_cust_variables(y,h,j,t,technician_skill_set,technician_nodes,customer_nodes,customer_machine_types) \n",
    "                            for t in range(DAYS-1) for h in technicians)) - (DAYS-1) <= 0, \"end_installation_window\" "
   ]
  },
  {
   "cell_type": "markdown",
   "id": "joined-carbon",
   "metadata": {},
   "source": [
    "### Truck capacity\n",
    "### $\\sum_{i \\in N_x, i \\neq j}x_{tkij} d_j s_{m_j} - z_{tkj} \\leq 0 \\hspace{0.5cm} \\forall \\hspace{0.1cm} t \\in \\{0,\\ldots,T-1\\}, k \\in K, j \\in \\mathcal{C}$"
   ]
  },
  {
   "cell_type": "code",
   "execution_count": null,
   "id": "sapphire-credit",
   "metadata": {},
   "outputs": [],
   "source": [
    "def ordersize_tkj(x,t,k,j,x_nodes,customer_order_size,machine_size,customer_machine_types):\n",
    "    \"\"\"\n",
    "    Purpose: \n",
    "        Returns the expression which is used to calculate the ordersize for customer j on day t in truck k,\n",
    "        based on binary variable x \n",
    "    Input:\n",
    "        x, mip.Var: decision variable that indicates if on day t, truck k, drives from node i to j    \n",
    "        t, int: day on which the ordersize is calculated\n",
    "        k, int: truck for which the ordersize is calculated\n",
    "        j, int: customer_node for which the ordersize is calculated\n",
    "        customer_order_size, list: order size of each customer\n",
    "        machine_size, list: machine size of each machine type\n",
    "        customer_machine_types, list: type of machine the customer ordered\n",
    "        x_nodes, dict: with the nodes used to the x variable\n",
    "    Output:\n",
    "        ordersize_tkj, mip.entities.LinExpr: linear expression which is used to calculate the ordersize \n",
    "    \"\"\"\n",
    "    ordersize_j = customer_order_size[j-1] * machine_size[customer_machine_types[j-1]]\n",
    "    ordersize_tkj = ordersize_j * (mip.xsum(x[t][k][n][j-1] for n in x_nodes if n<j) + mip.xsum(x[t][k][n][j] for n in x_nodes if n>j)) \n",
    "    return  ordersize_tkj"
   ]
  },
  {
   "cell_type": "code",
   "execution_count": null,
   "id": "frank-static",
   "metadata": {},
   "outputs": [],
   "source": [
    "for t in range(DAYS-1):\n",
    "    for k in trucks:\n",
    "        for j in customer_nodes:\n",
    "            opt_model += ordersize_tkj(x,t,k,j,x_nodes,customer_order_size,machine_size\n",
    "                                       ,customer_machine_types) - z[t][k][j-1] <= 0, \"truck_capacity_lower\""
   ]
  },
  {
   "cell_type": "markdown",
   "id": "wound-bedroom",
   "metadata": {},
   "source": [
    "### $z_{tkj} \\leq Q \\hspace{0.5cm} \\forall \\hspace{0.1cm} t \\in \\{0,\\ldots,T-1\\}, k \\in K, j \\in \\mathcal{C}$"
   ]
  },
  {
   "cell_type": "code",
   "execution_count": null,
   "id": "animated-wealth",
   "metadata": {},
   "outputs": [],
   "source": [
    "for t in range(DAYS-1):\n",
    "    for k in trucks:\n",
    "        for j in customer_nodes:\n",
    "            opt_model += z[t][k][j-1] <= TRUCK_CAPACITY, \"truck_capacity_upper\""
   ]
  },
  {
   "cell_type": "markdown",
   "id": "mounted-membrane",
   "metadata": {},
   "source": [
    "### Cumulative load calculation\n",
    "### $z_{tkj} - z_{tki} - \\sum_{n \\in N_x, n \\neq j}x_{tknj} d_j s_{m_j} + Q(1-x_{tkij}) \\geq 0 \\hspace{0.5cm} \\forall \\hspace{0.1cm} t \\in \\{0,\\ldots,T-1\\}, k \\in K, i \\in \\mathcal{C}, j \\in \\mathcal{C}, i \\neq j$"
   ]
  },
  {
   "cell_type": "code",
   "execution_count": null,
   "id": "automatic-minnesota",
   "metadata": {},
   "outputs": [],
   "source": [
    "for t in range(DAYS-1):\n",
    "    for k in trucks:\n",
    "        for i in range(len(x[t][k])):\n",
    "            for j in range(len(x[t][k][i])):\n",
    "                var_name = x[t][k][i][j].name\n",
    "                var_name_split = var_name.split(\"_\")\n",
    "                outgoing_node = int(var_name_split[3])\n",
    "                incoming_node = int(var_name_split[4])\n",
    "                if (outgoing_node != 0) and (incoming_node != 0) and (outgoing_node != incoming_node):\n",
    "                    opt_model += z[t][k][incoming_node-1] - z[t][k][outgoing_node-1] - ordersize_tkj(x,t,k,incoming_node,x_nodes\n",
    "                                    ,customer_order_size,machine_size,\n",
    "                                    customer_machine_types) + TRUCK_CAPACITY * (1 - x[t][k][i][j]) >= 0, \"cumulative_load\""
   ]
  },
  {
   "cell_type": "markdown",
   "id": "younger-calvin",
   "metadata": {},
   "source": [
    "### Technician capacity\n",
    "### $ \\sum_{i \\in G_h, i \\neq j} y_{thij} - \\ell_{thj} \\leq 0 \\hspace{0.5cm} \\forall \\hspace{0.1cm} t \\in \\{1,\\ldots,T\\}, h \\in H, j \\in \\mathcal{C}_h$"
   ]
  },
  {
   "cell_type": "code",
   "execution_count": null,
   "id": "american-china",
   "metadata": {},
   "outputs": [],
   "source": [
    "for t in range(DAYS-1):\n",
    "    for h in technicians:\n",
    "        G_tech_h = tech_graph(h,technician_skill_set,technician_nodes,customer_nodes,customer_machine_types)\n",
    "        count = 0\n",
    "        for j in G_tech_h.nodes:\n",
    "            if j != len(nodes) - len(technician_nodes) + h: #exclude the technician home\n",
    "                opt_model += tech_cust_variables(y,h,j,t,technician_skill_set,technician_nodes,\n",
    "                                          customer_nodes,customer_machine_types) - l[t][h][count] <= 0, \"tech_capacity_lower\"\n",
    "                count+=1"
   ]
  },
  {
   "cell_type": "markdown",
   "id": "stunning-receiver",
   "metadata": {},
   "source": [
    "### $\\ell_{thj} - r_h\\leq 0 \\hspace{0.5cm} \\forall \\hspace{0.1cm} t \\in \\{1,\\ldots,T\\}, h \\in H, j \\in \\mathcal{C}_h$"
   ]
  },
  {
   "cell_type": "code",
   "execution_count": null,
   "id": "patient-progressive",
   "metadata": {},
   "outputs": [],
   "source": [
    "for t in range(DAYS-1):\n",
    "    for h in technicians:\n",
    "        for j in range(len(l[t][h])):\n",
    "            opt_model += l[t][h][j] - technician_max_visits[h] <= 0 , \"tech_capacity_upper\""
   ]
  },
  {
   "cell_type": "markdown",
   "id": "maritime-decade",
   "metadata": {},
   "source": [
    "### Technician cumulative load calculation\n",
    "### $l_{thj} - l_{thi} - \\sum_{n \\in G_h, n \\neq j} y_{thnj} + r_h (1-y_{thij}) \\geq 0 \\hspace{0.5cm} \\forall \\hspace{0.1cm} t \\in \\{1,\\ldots,T\\}, h \\in H, i \\in \\mathcal{C}_h, j \\in \\mathcal{C}_h, i \\neq j$"
   ]
  },
  {
   "cell_type": "code",
   "execution_count": null,
   "id": "celtic-arctic",
   "metadata": {},
   "outputs": [],
   "source": [
    "def get_y_for_nodes(y,t,h,outgoing_node,incoming_node):\n",
    "    \"\"\"\n",
    "    Purpose\n",
    "        Get the y variable given the incoming and outgoing node\n",
    "    Input\n",
    "        y, list, containing all the mip variables for y in the problem\n",
    "        t, int: the index of the day\n",
    "        h, int: technician under consideration\n",
    "        outgoing_node, int: node in graph which is move out from\n",
    "        incoming_node, int: node in graph which is entered\n",
    "    Output\n",
    "        y_var\n",
    "    \"\"\"\n",
    "    for i in range(len(y[t][h])):\n",
    "        for j in range(len(y[t][h][i])):\n",
    "            if int(y[t][h][i][j].name.split(\"_\")[3]) == outgoing_node and int(y[t][h][i][j].name.split(\"_\")[4]) == incoming_node:\n",
    "                y_var = y[t][h][i][j]\n",
    "                return y_var\n",
    "# print(get_y_for_nodes(y,0,0,2,3))"
   ]
  },
  {
   "cell_type": "code",
   "execution_count": null,
   "id": "veterinary-statement",
   "metadata": {},
   "outputs": [],
   "source": [
    "for t in range(DAYS-1):\n",
    "    for h in technicians:\n",
    "        for i in range(len(l[t][h])):\n",
    "            for j in range(len(l[t][h])):\n",
    "                outgoing_node = int(l[t][h][i].name.split(\"_\")[3])\n",
    "                incoming_node = int(l[t][h][j].name.split(\"_\")[3])\n",
    "                if outgoing_node != incoming_node:\n",
    "                    opt_model += l[t][h][j] - l[t][h][i] - tech_cust_variables(y,h,incoming_node,t,technician_skill_set,\n",
    "                            technician_nodes,customer_nodes,customer_machine_types) + technician_max_visits[h] * (1 - get_y_for_nodes(y,\n",
    "                            t,h,outgoing_node,incoming_node)) >= 0, \"tech_cumulative_load\""
   ]
  },
  {
   "cell_type": "markdown",
   "id": "whole-sitting",
   "metadata": {},
   "source": [
    "### Consecutive work days technicians\n",
    "### $4 + w_{th} - \\sum\\limits_{i=t-5}^{t-1} q_{ih} \\geq 0  \\hspace{0.5cm} \\forall \\hspace{0.1cm} t \\in \\{6,\\ldots,T\\}, h \\in H$"
   ]
  },
  {
   "cell_type": "code",
   "execution_count": null,
   "id": "minute-pulse",
   "metadata": {},
   "outputs": [],
   "source": [
    "for t in range(0,DAYS-6):\n",
    "    for h in technicians:\n",
    "        opt_model += 4 + w[t][h] - mip.xsum(q[i][h] for i in range(t,t+5)) >= 0, \"set_w_to_1\""
   ]
  },
  {
   "cell_type": "markdown",
   "id": "capital-clone",
   "metadata": {},
   "source": [
    "### $5w_{th} - \\sum\\limits_{i=t-5}^{t-1} q_{ih} \\leq 0  \\hspace{0.5cm} \\forall \\hspace{0.1cm} t \\in \\{6,\\ldots,T\\}, h \\in H$"
   ]
  },
  {
   "cell_type": "code",
   "execution_count": null,
   "id": "neither-check",
   "metadata": {},
   "outputs": [],
   "source": [
    "for t in range(0,DAYS-6):\n",
    "    for h in technicians:\n",
    "        opt_model += 5*w[t][h] - mip.xsum(q[i][h] for i in range(t,t+5)) <= 0, \"set_w_to_0\""
   ]
  },
  {
   "cell_type": "markdown",
   "id": "faced-adobe",
   "metadata": {},
   "source": [
    "### $w_{th} - L(w_{th}-1) - (q_{th}+1) \\geq 0  \\hspace{0.5cm} \\forall \\hspace{0.1cm} t \\in \\{6,\\ldots,T\\}, h \\in H$"
   ]
  },
  {
   "cell_type": "code",
   "execution_count": null,
   "id": "proved-drinking",
   "metadata": {},
   "outputs": [],
   "source": [
    "L = 1000\n",
    "for t in range(0,DAYS-6):\n",
    "    for h in technicians:\n",
    "        opt_model += w[t][h] - L*(w[t][h]-1) - (q[t+5][h]+1) >= 0, \"consecutive_days_t\""
   ]
  },
  {
   "cell_type": "markdown",
   "id": "julian-crossing",
   "metadata": {},
   "source": [
    "### $w_{th} - L(w_{th}-1) - (q_{t+1h}+1) \\geq 0 \\hspace{0.5cm} \\forall \\hspace{0.1cm} t \\in \\{6,\\ldots,T-1\\}, h \\in H$"
   ]
  },
  {
   "cell_type": "code",
   "execution_count": null,
   "id": "hazardous-reaction",
   "metadata": {},
   "outputs": [],
   "source": [
    "L = 1000\n",
    "for t in range(0,DAYS-6-1):\n",
    "    for h in technicians:\n",
    "        opt_model += w[t][h] - L*(w[t][h]-1) - (q[t+6][h]+1) >= 0, \"consecutive_days_t+1\""
   ]
  },
  {
   "cell_type": "markdown",
   "id": "passing-boston",
   "metadata": {},
   "source": [
    "## Optimize"
   ]
  },
  {
   "cell_type": "code",
   "execution_count": null,
   "id": "comic-microwave",
   "metadata": {},
   "outputs": [],
   "source": [
    "opt_model.store_search_progress_log = True\n",
    "opt_model.search_progress_log.instance = \"VeRoLog\"\n",
    "opt_model.search_progress_log.settings = \"truck_dist\",\"tech_dist\",\"tech_visit\",\"cust_delivery\",\"tech_delivery\",\"cust_ent_leave\",\"tech_ent_leave\",\"depot_ent_leave\",\"home_ent_leave\",\"start_delivery_window\",\"end_delivery_window\",\"start_installation_window\",\"end_installation_window\",\"truck_capacity\",\"truck_capacity_lower\",\"truck_capacity_upper\",\"cumulative_load\",\"tech_skillset\",\"set_w_to_1\",\"set_w_to_0\",\"consecutive_days_t\",\"consecutive_days_t+1\""
   ]
  },
  {
   "cell_type": "code",
   "execution_count": null,
   "id": "guilty-ordinary",
   "metadata": {},
   "outputs": [],
   "source": [
    "opt_model.write(\"test.lp\")"
   ]
  },
  {
   "cell_type": "code",
   "execution_count": null,
   "id": "designing-occasions",
   "metadata": {},
   "outputs": [],
   "source": [
    "opt_model.optimize(max_seconds=1*20)"
   ]
  },
  {
   "cell_type": "code",
   "execution_count": null,
   "id": "monetary-closing",
   "metadata": {},
   "outputs": [],
   "source": [
    "opt_model.search_progress_log.write(\"TestResults\")"
   ]
  },
  {
   "cell_type": "markdown",
   "id": "younger-backup",
   "metadata": {},
   "source": [
    "## Solution"
   ]
  },
  {
   "cell_type": "code",
   "execution_count": null,
   "id": "sharing-comparison",
   "metadata": {},
   "outputs": [],
   "source": [
    "if opt_model.num_solutions:\n",
    "    print('route with total cost %g found' % (opt_model.objective_value))"
   ]
  },
  {
   "cell_type": "markdown",
   "id": "surprising-savage",
   "metadata": {},
   "source": [
    "### Check if the constraints are satisfied"
   ]
  },
  {
   "cell_type": "code",
   "execution_count": null,
   "id": "removable-aruba",
   "metadata": {},
   "outputs": [],
   "source": [
    "delivered = []\n",
    "trucks_used = []\n",
    "truck_distances = []\n",
    "truck_delivery_day = {}\n",
    "for t in range(DAYS-1):\n",
    "    for k in trucks:\n",
    "        total_dist = 0\n",
    "        for i in range(len(x[t][k])):\n",
    "            for j in range(len(x[t][k][i])):\n",
    "                if x[t][k][i][j].x >= 0.99:\n",
    "                    var_name = x[t][k][i][j].name\n",
    "                    var_name_strip = var_name.split(\"_\")\n",
    "                    print('On day ',int(var_name_strip[1]),' truck ',int(var_name_strip[2]),\n",
    "                          ' drives from node ',var_name_strip[3],' to node ',var_name_strip[4])\n",
    "                    if int(var_name_strip[4]) in customer_nodes.keys():\n",
    "                        delivered.append(int(var_name_strip[4]))\n",
    "                        if t < start_delivery_window[int(var_name_strip[4])-1]:\n",
    "                            print('This order was delivered before the start of the delivery window: ',var_name_strip[4])\n",
    "                        if t > end_delivery_window[int(var_name_strip[4])-1]:\n",
    "                            print(\"This order was delivered too late: \",var_name_strip[4])\n",
    "                        truck_delivery_day[var_name_strip[4]] = t\n",
    "                    if k not in trucks_used:\n",
    "                        trucks_used.append(k)\n",
    "                    total_dist += calc_edge_cost(x,t,k,i,j,edges_index,cost_edges)\n",
    "        truck_distances.append(total_dist)\n",
    "print(\"The following customers had their machine delivered:\",delivered)\n",
    "print(\"The following trucks were used:\",trucks_used)\n",
    "print(\"The trucks drive the following distances: \",truck_distances,\" the maximum distance is \",TRUCK_MAX_DISTANCE)\n",
    "installed = []\n",
    "technicians_used = []\n",
    "technicians_distances = []\n",
    "technicians_visits = []\n",
    "for t in range(DAYS-1):\n",
    "    for h in technicians:\n",
    "        total_dist = 0\n",
    "        total_visits = 0\n",
    "        for i in range(len(y[t][h])):\n",
    "            for j in range(len(y[t][h][i])):\n",
    "                if y[t][h][i][j].x >= 0.99:\n",
    "                    var_name = y[t][h][i][j].name\n",
    "                    var_name_strip = var_name.split(\"_\")\n",
    "                    print('On day ',int(var_name_strip[1]),' technician ', int(var_name_strip[2]),\n",
    "                          ' drives from node ',var_name_strip[3],' to node ',var_name_strip[4])\n",
    "                    if int(var_name_strip[4]) in customer_nodes.keys():\n",
    "                        installed.append(int(var_name_strip[4]))\n",
    "                        if int(var_name_strip[1]) <= truck_delivery_day[var_name_strip[4]]:\n",
    "                            print(\"This machine was installed too early: \",var_name_strip[4], \", delivery was on day \"\n",
    "                                  ,truck_delivery_day[var_name_strip[4]], \"and installation on day \",t)   \n",
    "                        if technician_skill_set[h][customer_machine_types[int(var_name_strip[4])-1]] == 0:\n",
    "                            print(\"The chosen technician does not have the skillset to install this machine\")\n",
    "                    if h not in technicians_used:\n",
    "                        technicians_used.append(h)     \n",
    "                    total_dist += calc_edge_cost(y,t,h,i,j,edges_index,cost_edges)\n",
    "                    if int(var_name_strip[4]) not in technician_nodes.keys():\n",
    "                        total_visits += 1 \n",
    "\n",
    "        technicians_distances.append(total_dist)\n",
    "        technicians_visits.append(total_visits)\n",
    "print(\"The following customers had their machine installed:\",installed)\n",
    "print(\"The following technicians were used:\",technicians_used)\n",
    "print(\"The technicians drive the following distances: \",technicians_distances,\" the maximum distance is \",technician_max_distance)\n",
    "print(\"The technicians have the following number of visits: \",technicians_visits,\" the maximum visits is \",technician_max_visits)"
   ]
  },
  {
   "cell_type": "markdown",
   "id": "painted-quilt",
   "metadata": {},
   "source": [
    "### check if the decision variables for the number of trucks (days) and technician (days) are correct"
   ]
  },
  {
   "cell_type": "code",
   "execution_count": null,
   "id": "biological-preliminary",
   "metadata": {},
   "outputs": [],
   "source": [
    "for k in trucks:\n",
    "    print('truck',k,u[k].x)"
   ]
  },
  {
   "cell_type": "code",
   "execution_count": null,
   "id": "painted-beijing",
   "metadata": {},
   "outputs": [],
   "source": [
    "for k in trucks:\n",
    "    for t in range(DAYS-1):\n",
    "        print(\"Day: \",t,\"Truck: \",k,\"variable\",v[t][k].x)"
   ]
  },
  {
   "cell_type": "code",
   "execution_count": null,
   "id": "prepared-joint",
   "metadata": {},
   "outputs": [],
   "source": [
    "for h in technicians:\n",
    "    print('technician',h,p[h].x)"
   ]
  },
  {
   "cell_type": "code",
   "execution_count": null,
   "id": "accompanied-cricket",
   "metadata": {},
   "outputs": [],
   "source": [
    "for h in technicians:\n",
    "    for t in range(DAYS-1):\n",
    "        print('Day: ',t+1,'Technician: ',h,'variable: ',q[t][h].x)"
   ]
  },
  {
   "cell_type": "code",
   "execution_count": null,
   "id": "embedded-gross",
   "metadata": {},
   "outputs": [],
   "source": [
    "for h in technicians:\n",
    "    for t in range(DAYS-6):\n",
    "        print('Day: ',t+6,'Technician: ',h,'variable: ',w[t][h].x)"
   ]
  },
  {
   "cell_type": "markdown",
   "id": "reduced-insider",
   "metadata": {},
   "source": [
    "### The variables have the expected values"
   ]
  },
  {
   "cell_type": "markdown",
   "id": "mysterious-triple",
   "metadata": {},
   "source": [
    "## Make output file that can be read by SolutionVerolog2019.py file"
   ]
  },
  {
   "cell_type": "code",
   "execution_count": null,
   "id": "mexican-officer",
   "metadata": {},
   "outputs": [],
   "source": [
    "TruckDistance = int((mip.xsum(x[t][k][i][j] * calc_edge_cost(x,t,k,i,j,edges_index,cost_edges) for t in range(DAYS-1) \n",
    "                                for k in trucks for i in range(len(x[t][k])) for j in range(len(x[t][k][i])))).x)\n",
    "TruckDays = int(mip.xsum(v[t][k] for t in range(DAYS-1) for k in trucks).x) \n",
    "TrucksUsed = int(mip.xsum(u[k] for k in trucks).x)\n",
    "TechDistance = int(mip.xsum(y[t][h][i][j] * calc_edge_cost(y,t,h,i,j,edges_index,cost_edges)\n",
    "                                                      for t in range(DAYS-1) for h in technicians for i in range(len(y[t][h]))\n",
    "                                                      for j in range(len(y[t][h][i]))).x)\n",
    "TechDays = int(mip.xsum(q[t][h] for t in range(0,DAYS-1) for h in technicians).x)\n",
    "TechsUsed = int(mip.xsum(p[h] for h in technicians).x)\n",
    "IdleMachineCost = int(c_penalty.x)\n",
    "TotalCost = int(objective_func.x)"
   ]
  },
  {
   "cell_type": "code",
   "execution_count": null,
   "id": "higher-march",
   "metadata": {},
   "outputs": [],
   "source": [
    "type(objective_func)"
   ]
  },
  {
   "cell_type": "code",
   "execution_count": null,
   "id": "neither-supervision",
   "metadata": {},
   "outputs": [],
   "source": [
    "print('DATASET = VeRoLog solver challenge 2019')\n",
    "print('NAME = VSC2019_ORTEC_Example.txt')\n",
    "print()\n",
    "print('TRUCK_DISTANCE = '+ str(TruckDistance))\n",
    "print('NUMBER_OF_TRUCK_DAYS = '+ str(TruckDays))\n",
    "print('NUMBER_OF_TRUCKS_USED = '+ str(TrucksUsed))\n",
    "print('TECHNICIAN_DISTANCE = '+ str(TechDistance))\n",
    "print('NUMBER_OF_TECHNICIAN_DAYS = '+ str(TechDays))\n",
    "print('NUMBER_OF_TECHNICIANS_USED = '+ str(TechsUsed))\n",
    "print('IDLE_MACHINE_COSTS = '+ str(IdleMachineCost))\n",
    "print('TOTAL_COST = '+ str(TotalCost))"
   ]
  },
  {
   "cell_type": "code",
   "execution_count": null,
   "id": "owned-copying",
   "metadata": {},
   "outputs": [],
   "source": [
    "def add_nodes_to_route(t,k_h,var,outgoing_node,route, route_length, home):\n",
    "    \"\"\"\n",
    "    Purpose\n",
    "        Add nodes to the route by recursively calling this function, the function tries to find the node where the\n",
    "        outgoing node is travelling to, it will add it to the route and will repeat the same thing for this node, untill\n",
    "        the route surpasses the total length of the route on the day (function is called in find_truck_route()\n",
    "        and find_tech_route())\n",
    "    Input\n",
    "        t, int: index of day under consideration\n",
    "        k_h, int: truck or technician under consideration\n",
    "        var, list: containing the solution of all the mip variables for x or y in the problem        \n",
    "        outgoing_node, str: node were the truck or technician is departing from\n",
    "        route, str: (partial) route for truck k or technician h on day t\n",
    "        route_length, float: length of the route\n",
    "        home, int: home location of technician or depot in case of trucks\n",
    "    Output\n",
    "        route, str: (partial) route for truck k or technician h on day t\n",
    "    \"\"\"\n",
    "    #print(\"add_nodes\",\"node:\",outgoing_node,\"route:\",route)\n",
    "    for i in range(len(var[t][k_h])):\n",
    "        break_second_loop = 0\n",
    "        for j in range(len(var[t][k_h][i])): #if edge (i,j) was travelled, then j will be the new outgoing node\n",
    "            if var[t][k_h][i][j].x > 0.99 and var[t][k_h][i][j].name.split(\"_\")[3] == outgoing_node:\n",
    "                #filter out nodes that have been visited before (unless it's the home location)\n",
    "                if var[t][k_h][i][j].name.split(\"_\")[4] not in route[1:] or var[t][k_h][i][j].name.split(\"_\")[4] == str(home):\n",
    "                    #print(\"add_nodes\",var[t][k_h][i][j].name)\n",
    "                    outgoing_node = var[t][k_h][i][j].name.split(\"_\")[4]\n",
    "                    break_second_loop = 1\n",
    "                    break\n",
    "        if break_second_loop == 1:\n",
    "            break        \n",
    "    #print(\"add_nodes\",outgoing_node)                \n",
    "    route += outgoing_node + \" \"\n",
    "    if len(route.split(\" \")) < route_length+2: #route length + technician/truck id + home location/depot\n",
    "        route = add_nodes_to_route(t,k_h,var,outgoing_node,route,route_length,home)\n",
    "    \n",
    "    return route\n",
    "# print(add_nodes_to_route(1,1,x,str(0),\"2 \", mip.xsum(x[1][1][i][j] for i in range(len(x[1][1])) for j in range(len(x[1][1][i]))).x,0))\n",
    "# print(add_nodes_to_route(1,0,y,str(8),\"1 \", mip.xsum(y[1][0][i][j] for i in range(len(y[1][0])) for j in range(len(y[1][0][i]))).x,8))"
   ]
  },
  {
   "cell_type": "code",
   "execution_count": null,
   "id": "gross-interpretation",
   "metadata": {},
   "outputs": [],
   "source": [
    "def find_truck_route(t,k,x):\n",
    "    \"\"\"\n",
    "    Purpose\n",
    "        Find the route of truck k on day t, note that the truck will be indexed starting from 1 instead of 0 and \n",
    "        that the trucks must start and end each route at the depot so this is not explicitely mentioned in the solution format\n",
    "    Input\n",
    "        t, int: index of day under consideration\n",
    "        k, int: truck under consideration\n",
    "        x, list: containing the solution of all the mip variables for x in the problem\n",
    "    Output\n",
    "        truck_route, str: route for truck k on day t\n",
    "    \"\"\"\n",
    "    outgoing_node = str(0) #start at the depot\n",
    "    truck_route = str(k+1) + \" \" #the route start with the truck index (indexing starts at 1 in solution file)\n",
    "    route_length = mip.xsum(x[t][k][i][j] for i in range(len(x[t][k])) for j in range(len(x[t][k][i]))).x\n",
    "    \n",
    "    if route_length >= 2:  \n",
    "        truck_route = add_nodes_to_route(t,k,x,outgoing_node,truck_route,route_length,-1)\n",
    "        truck_route = truck_route[0:len(truck_route)-len(\" 0\")] #remove depot at the end\n",
    "    else:\n",
    "        print(\"Warning, this route makes no sense. Truck: \",k,\"Day: \",t)\n",
    "    \n",
    "    return truck_route\n",
    "# find_truck_route(2,1,x)"
   ]
  },
  {
   "cell_type": "code",
   "execution_count": null,
   "id": "dried-isolation",
   "metadata": {},
   "outputs": [],
   "source": [
    "def find_tech_route(t,h,y,tech_home):\n",
    "    \"\"\"\n",
    "    Purpose\n",
    "        Find the route of technician h on day t, note that the technician will be indexed starting from 1 instead of 0 and that \n",
    "        the technicians must start and end each route at home so this is not explicitely mentioned in the solution format\n",
    "    Input\n",
    "        t, int: index of day under consideration\n",
    "        h, int: technician under consideration\n",
    "        y, list: containing the solution of all the mip variables for y in the problem\n",
    "        tech_home, int: technicians home location\n",
    "    Output\n",
    "        tech_route, str: route for technician h on day t\n",
    "    \"\"\"\n",
    "    outgoing_node = str(tech_home) #start at the home location\n",
    "    tech_route = str(h+1) + \" \" #the route start with the technician id (indexing starts at 1 in solution file)\n",
    "    route_length = mip.xsum(y[t][h][i][j] for i in range(len(y[t][h])) for j in range(len(y[t][h][i]))).x\n",
    "   # print(t,h,outgoing_node,tech_route,route_length)\n",
    "    if route_length >= 2:\n",
    "        tech_route = add_nodes_to_route(t,h,y,outgoing_node,tech_route,route_length,tech_home)\n",
    "        #print(\"find_tech\",tech_route)\n",
    "        #tech_route = tech_route[0:len(tech_route)-len(\" \"+str(tech_home))] #remove home location at the end\n",
    "        #remove home location from route, if a feasible solution was found where the technician does travel home before moving to the next customer, the total cost calculated in the algorithm can be different from the cost calculated by the SolutionVerolog2019.py file, because the intermediate visit to home has been skipped such that the maximum number of visits is not exceeded in the solution\n",
    "        #this is not cosidered a problem because in an optimal route the technician will not visit home before moving to the next customer, since it is highly inefficient\n",
    "        tech_route = tech_route.replace(str(tech_home)+\" \",\"\") \n",
    "        #print(\"find_tech\",tech_route)\n",
    "    else:\n",
    "        print(\"Warning, this route makes no sense. Technician: \",h,\"Day: \",t)\n",
    "    \n",
    "    return tech_route\n",
    "# find_tech_route(1,0,y,8)"
   ]
  },
  {
   "cell_type": "code",
   "execution_count": null,
   "id": "behind-butler",
   "metadata": {
    "scrolled": true
   },
   "outputs": [],
   "source": [
    "#in solution file the day numbering starts at 1\n",
    "for t in range(DAYS-1):\n",
    "    print(\"DAY =\",t+1)\n",
    "    print(\"NUMBER_OF_TRUCKS =\",int(mip.xsum(v[t][k] for k in trucks).x))\n",
    "    for k in trucks:\n",
    "        if v[t][k].x > 0.99:\n",
    "            print(find_truck_route(t,k,x))\n",
    "    if t > 0:\n",
    "        print(\"NUMBER_OF_TECHNICIANS =\",int(mip.xsum(q[t-1][h] for h in technicians).x))\n",
    "        for h in technicians:\n",
    "            if q[t-1][h].x > 0.99:\n",
    "                print(find_tech_route(t-1,h,y,len(nodes)-len(technician_nodes)+h))            \n",
    "    else:\n",
    "        print(\"NUMBER_OF_TECHNICIANS = 0\") #never installation of first day\n",
    "    print()\n",
    "print(\"DAY =\",DAYS)\n",
    "print(\"NUMBER_OF_TRUCKS = 0\") #never delivery on last day\n",
    "print(\"NUMBER_OF_TECHNICIANS =\", int(mip.xsum(q[DAYS-2][h] for h in technicians).x))\n",
    "for h in technicians:\n",
    "    if q[DAYS-2][h].x > 0.99:\n",
    "        print(find_tech_route(DAYS-2,h,y,len(nodes)-len(technician_nodes)+h))    "
   ]
  },
  {
   "cell_type": "markdown",
   "id": "4b02c3d6",
   "metadata": {},
   "source": [
    "## Test read functionality of mip"
   ]
  },
  {
   "cell_type": "code",
   "execution_count": 15,
   "id": "02cceab3",
   "metadata": {},
   "outputs": [
    {
     "name": "stdout",
     "output_type": "stream",
     "text": [
      "model has 2233 vars, 6171 constraints and 33433 nzs\n"
     ]
    }
   ],
   "source": [
    "test_model = mip.Model()\n",
    "test_model.read('test.lp')\n",
    "print('model has {} vars, {} constraints and {} nzs'.format(test_model.num_cols, test_model.num_rows, test_model.num_nz))"
   ]
  },
  {
   "cell_type": "markdown",
   "id": "d81aab55",
   "metadata": {},
   "source": [
    "### Restart kernel, run all input variables and after that run the following code"
   ]
  },
  {
   "cell_type": "code",
   "execution_count": 19,
   "id": "1f417926",
   "metadata": {},
   "outputs": [
    {
     "name": "stdout",
     "output_type": "stream",
     "text": [
      "sol.cost 605227.0 found, best possible: 217764.94051970003\n",
      "solution:\n",
      "x_0_1_0_5 : 1.0\n",
      "x_0_1_5_0 : 1.0\n",
      "x_2_1_0_1 : 1.0\n",
      "x_2_1_0_6 : 1.0\n",
      "x_2_1_1_3 : 1.0\n",
      "x_2_1_3_0 : 1.0\n",
      "x_2_1_6_7 : 1.0\n",
      "x_2_1_7_0 : 1.0\n",
      "x_3_1_0_2 : 1.0\n",
      "x_3_1_2_0 : 1.0\n",
      "x_4_1_0_4 : 1.0\n",
      "x_4_1_4_0 : 1.0\n",
      "y_1_0_8_5 : 1.0\n",
      "y_1_0_5_8 : 1.0\n",
      "y_3_1_9_1 : 1.0\n",
      "y_3_1_1_9 : 1.0\n",
      "y_3_4_12_7 : 1.0\n",
      "y_3_4_7_12 : 1.0\n",
      "y_4_0_8_3 : 1.0\n",
      "y_4_0_3_2 : 1.0\n",
      "y_6_3_11_6 : 1.0\n",
      "y_6_3_4_11 : 1.0\n",
      "y_6_3_6_4 : 1.0\n",
      "u_1 : 1.0\n",
      "v_0_1 : 1.0\n",
      "v_2_1 : 1.0\n",
      "v_3_1 : 1.0\n",
      "v_4_1 : 1.0\n",
      "p_0 : 1.0\n",
      "p_1 : 1.0\n",
      "p_3 : 1.0\n",
      "p_4 : 1.0\n",
      "q_1_0 : 1.0\n",
      "q_3_1 : 1.0\n",
      "q_3_4 : 1.0\n",
      "q_4_0 : 1.0\n",
      "q_6_3 : 1.0\n",
      "y_4_0_2_8 : 1.0\n",
      "z_0_1_5 : 1.0\n",
      "z_2_1_1 : 2.0\n",
      "z_2_1_3 : 6.0\n",
      "z_2_1_6 : 2.0\n",
      "z_2_1_7 : 6.0\n",
      "z_3_1_2 : 3.0\n",
      "z_4_1_4 : 6.0\n",
      "l_1_0_5 : 1.0\n",
      "l_3_1_1 : 1.0\n",
      "l_3_1_4 : 1.0\n",
      "l_3_1_5 : 1.0\n",
      "l_3_1_7 : 1.0\n",
      "l_3_4_1 : 1.0\n",
      "l_3_4_2 : 1.0\n",
      "l_3_4_3 : 1.0\n",
      "l_3_4_4 : 1.0\n",
      "l_3_4_5 : 1.0\n",
      "l_3_4_6 : 1.0\n",
      "l_3_4_7 : 1.0\n",
      "l_4_0_2 : 2.0\n",
      "l_4_0_3 : 1.0\n",
      "l_6_3_4 : 2.0\n",
      "l_6_3_6 : 1.0\n"
     ]
    }
   ],
   "source": [
    "# test_model.max_gap = 0.05\n",
    "# status = test_model.optimize(max_seconds=60)\n",
    "if status == mip.OptimizationStatus.OPTIMAL:\n",
    "    print('optimal solution cost {} found'.format(test_model.objective_value))\n",
    "elif status == mip.OptimizationStatus.FEASIBLE:\n",
    "    print('sol.cost {} found, best possible: {}'.format(test_model.objective_value, test_model.objective_bound))\n",
    "elif status == mip.OptimizationStatus.NO_SOLUTION_FOUND:\n",
    "    print('no feasible solution found, lower bound is: {}'.format(test_model.objective_bound))\n",
    "if status == mip.OptimizationStatus.OPTIMAL or status == mip.OptimizationStatus.FEASIBLE:\n",
    "    print('solution:')\n",
    "    for v in test_model.vars:\n",
    "        if abs(v.x) > 1e-6: # only printing non-zeros\n",
    "            print('{} : {}'.format(v.name, v.x))"
   ]
  }
 ],
 "metadata": {
  "kernelspec": {
   "display_name": "Python 3",
   "language": "python",
   "name": "python3"
  },
  "language_info": {
   "codemirror_mode": {
    "name": "ipython",
    "version": 3
   },
   "file_extension": ".py",
   "mimetype": "text/x-python",
   "name": "python",
   "nbconvert_exporter": "python",
   "pygments_lexer": "ipython3",
   "version": "3.7.3"
  }
 },
 "nbformat": 4,
 "nbformat_minor": 5
}
